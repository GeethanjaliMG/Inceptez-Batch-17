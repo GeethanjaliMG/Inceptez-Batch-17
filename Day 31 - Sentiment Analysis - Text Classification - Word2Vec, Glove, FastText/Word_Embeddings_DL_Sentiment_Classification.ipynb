{
  "nbformat": 4,
  "nbformat_minor": 0,
  "metadata": {
    "colab": {
      "name": "Word_Embeddings_DL_Sentiment_Classification.ipynb",
      "provenance": []
    },
    "kernelspec": {
      "name": "python3",
      "display_name": "Python 3"
    },
    "language_info": {
      "name": "python"
    },
    "accelerator": "GPU"
  },
  "cells": [
    {
      "cell_type": "code",
      "execution_count": 8,
      "metadata": {
        "colab": {
          "base_uri": "https://localhost:8080/",
          "height": 300
        },
        "id": "KZvPqpNSkQRR",
        "outputId": "3a9bb1f8-60d4-4f83-f09b-880e5a39b21f"
      },
      "outputs": [
        {
          "output_type": "execute_result",
          "data": {
            "text/plain": [
              "                                                             Document Category\n",
              "0                                      The sky is blue and beautiful.  weather\n",
              "1                                   Love this blue and beautiful sky!  weather\n",
              "2                        The quick brown fox jumps over the lazy dog.  animals\n",
              "3  A king's breakfast has sausages, ham, bacon, eggs, toast and beans     food\n",
              "4                         I love green eggs, ham, sausages and bacon!     food\n",
              "5                    The brown fox is quick and the blue dog is lazy!  animals\n",
              "6            The sky is very blue and the sky is very beautiful today  weather\n",
              "7                         The dog is lazy but the brown fox is quick!  animals"
            ],
            "text/html": [
              "\n",
              "  <div id=\"df-85342105-ef0b-4c3c-81a5-3c4a1e96895b\">\n",
              "    <div class=\"colab-df-container\">\n",
              "      <div>\n",
              "<style scoped>\n",
              "    .dataframe tbody tr th:only-of-type {\n",
              "        vertical-align: middle;\n",
              "    }\n",
              "\n",
              "    .dataframe tbody tr th {\n",
              "        vertical-align: top;\n",
              "    }\n",
              "\n",
              "    .dataframe thead th {\n",
              "        text-align: right;\n",
              "    }\n",
              "</style>\n",
              "<table border=\"1\" class=\"dataframe\">\n",
              "  <thead>\n",
              "    <tr style=\"text-align: right;\">\n",
              "      <th></th>\n",
              "      <th>Document</th>\n",
              "      <th>Category</th>\n",
              "    </tr>\n",
              "  </thead>\n",
              "  <tbody>\n",
              "    <tr>\n",
              "      <th>0</th>\n",
              "      <td>The sky is blue and beautiful.</td>\n",
              "      <td>weather</td>\n",
              "    </tr>\n",
              "    <tr>\n",
              "      <th>1</th>\n",
              "      <td>Love this blue and beautiful sky!</td>\n",
              "      <td>weather</td>\n",
              "    </tr>\n",
              "    <tr>\n",
              "      <th>2</th>\n",
              "      <td>The quick brown fox jumps over the lazy dog.</td>\n",
              "      <td>animals</td>\n",
              "    </tr>\n",
              "    <tr>\n",
              "      <th>3</th>\n",
              "      <td>A king's breakfast has sausages, ham, bacon, eggs, toast and beans</td>\n",
              "      <td>food</td>\n",
              "    </tr>\n",
              "    <tr>\n",
              "      <th>4</th>\n",
              "      <td>I love green eggs, ham, sausages and bacon!</td>\n",
              "      <td>food</td>\n",
              "    </tr>\n",
              "    <tr>\n",
              "      <th>5</th>\n",
              "      <td>The brown fox is quick and the blue dog is lazy!</td>\n",
              "      <td>animals</td>\n",
              "    </tr>\n",
              "    <tr>\n",
              "      <th>6</th>\n",
              "      <td>The sky is very blue and the sky is very beautiful today</td>\n",
              "      <td>weather</td>\n",
              "    </tr>\n",
              "    <tr>\n",
              "      <th>7</th>\n",
              "      <td>The dog is lazy but the brown fox is quick!</td>\n",
              "      <td>animals</td>\n",
              "    </tr>\n",
              "  </tbody>\n",
              "</table>\n",
              "</div>\n",
              "      <button class=\"colab-df-convert\" onclick=\"convertToInteractive('df-85342105-ef0b-4c3c-81a5-3c4a1e96895b')\"\n",
              "              title=\"Convert this dataframe to an interactive table.\"\n",
              "              style=\"display:none;\">\n",
              "        \n",
              "  <svg xmlns=\"http://www.w3.org/2000/svg\" height=\"24px\"viewBox=\"0 0 24 24\"\n",
              "       width=\"24px\">\n",
              "    <path d=\"M0 0h24v24H0V0z\" fill=\"none\"/>\n",
              "    <path d=\"M18.56 5.44l.94 2.06.94-2.06 2.06-.94-2.06-.94-.94-2.06-.94 2.06-2.06.94zm-11 1L8.5 8.5l.94-2.06 2.06-.94-2.06-.94L8.5 2.5l-.94 2.06-2.06.94zm10 10l.94 2.06.94-2.06 2.06-.94-2.06-.94-.94-2.06-.94 2.06-2.06.94z\"/><path d=\"M17.41 7.96l-1.37-1.37c-.4-.4-.92-.59-1.43-.59-.52 0-1.04.2-1.43.59L10.3 9.45l-7.72 7.72c-.78.78-.78 2.05 0 2.83L4 21.41c.39.39.9.59 1.41.59.51 0 1.02-.2 1.41-.59l7.78-7.78 2.81-2.81c.8-.78.8-2.07 0-2.86zM5.41 20L4 18.59l7.72-7.72 1.47 1.35L5.41 20z\"/>\n",
              "  </svg>\n",
              "      </button>\n",
              "      \n",
              "  <style>\n",
              "    .colab-df-container {\n",
              "      display:flex;\n",
              "      flex-wrap:wrap;\n",
              "      gap: 12px;\n",
              "    }\n",
              "\n",
              "    .colab-df-convert {\n",
              "      background-color: #E8F0FE;\n",
              "      border: none;\n",
              "      border-radius: 50%;\n",
              "      cursor: pointer;\n",
              "      display: none;\n",
              "      fill: #1967D2;\n",
              "      height: 32px;\n",
              "      padding: 0 0 0 0;\n",
              "      width: 32px;\n",
              "    }\n",
              "\n",
              "    .colab-df-convert:hover {\n",
              "      background-color: #E2EBFA;\n",
              "      box-shadow: 0px 1px 2px rgba(60, 64, 67, 0.3), 0px 1px 3px 1px rgba(60, 64, 67, 0.15);\n",
              "      fill: #174EA6;\n",
              "    }\n",
              "\n",
              "    [theme=dark] .colab-df-convert {\n",
              "      background-color: #3B4455;\n",
              "      fill: #D2E3FC;\n",
              "    }\n",
              "\n",
              "    [theme=dark] .colab-df-convert:hover {\n",
              "      background-color: #434B5C;\n",
              "      box-shadow: 0px 1px 3px 1px rgba(0, 0, 0, 0.15);\n",
              "      filter: drop-shadow(0px 1px 2px rgba(0, 0, 0, 0.3));\n",
              "      fill: #FFFFFF;\n",
              "    }\n",
              "  </style>\n",
              "\n",
              "      <script>\n",
              "        const buttonEl =\n",
              "          document.querySelector('#df-85342105-ef0b-4c3c-81a5-3c4a1e96895b button.colab-df-convert');\n",
              "        buttonEl.style.display =\n",
              "          google.colab.kernel.accessAllowed ? 'block' : 'none';\n",
              "\n",
              "        async function convertToInteractive(key) {\n",
              "          const element = document.querySelector('#df-85342105-ef0b-4c3c-81a5-3c4a1e96895b');\n",
              "          const dataTable =\n",
              "            await google.colab.kernel.invokeFunction('convertToInteractive',\n",
              "                                                     [key], {});\n",
              "          if (!dataTable) return;\n",
              "\n",
              "          const docLinkHtml = 'Like what you see? Visit the ' +\n",
              "            '<a target=\"_blank\" href=https://colab.research.google.com/notebooks/data_table.ipynb>data table notebook</a>'\n",
              "            + ' to learn more about interactive tables.';\n",
              "          element.innerHTML = '';\n",
              "          dataTable['output_type'] = 'display_data';\n",
              "          await google.colab.output.renderOutput(dataTable, element);\n",
              "          const docLink = document.createElement('div');\n",
              "          docLink.innerHTML = docLinkHtml;\n",
              "          element.appendChild(docLink);\n",
              "        }\n",
              "      </script>\n",
              "    </div>\n",
              "  </div>\n",
              "  "
            ]
          },
          "metadata": {},
          "execution_count": 8
        }
      ],
      "source": [
        "import pandas as pd\n",
        "import numpy as np\n",
        "\n",
        "pd.options.display.max_colwidth = 200\n",
        "\n",
        "corpus = ['The sky is blue and beautiful.',\n",
        "          'Love this blue and beautiful sky!',\n",
        "          'The quick brown fox jumps over the lazy dog.',\n",
        "          \"A king's breakfast has sausages, ham, bacon, eggs, toast and beans\",\n",
        "          'I love green eggs, ham, sausages and bacon!',\n",
        "          'The brown fox is quick and the blue dog is lazy!',\n",
        "          'The sky is very blue and the sky is very beautiful today',\n",
        "          'The dog is lazy but the brown fox is quick!'    \n",
        "]\n",
        "labels = ['weather', 'weather', 'animals', 'food', 'food', 'animals', 'weather', 'animals']\n",
        "\n",
        "corpus = np.array(corpus)\n",
        "corpus_df = pd.DataFrame({'Document': corpus, \n",
        "                          'Category': labels})\n",
        "corpus_df = corpus_df[['Document', 'Category']]\n",
        "corpus_df"
      ]
    },
    {
      "cell_type": "code",
      "source": [
        "import nltk \n",
        "import re\n",
        "nltk.download('stopwords')\n",
        "nltk.download('punkt')\n",
        "stop_words = nltk.corpus.stopwords.words('english')\n",
        "\n",
        "def normalize_corpus(doc):\n",
        "  doc = re.sub(r'[^a-zA-Z0-9/s]',' ',doc, re.I | re.A)\n",
        "  doc = doc.lower()\n",
        "  doc = doc.strip()\n",
        "  tokens = nltk.word_tokenize(doc)\n",
        "  filtered_toks = [token for token in tokens if token not in stop_words]\n",
        "  doc = \" \".join(filtered_toks)\n",
        "  return doc\n"
      ],
      "metadata": {
        "colab": {
          "base_uri": "https://localhost:8080/"
        },
        "id": "Eulns-ramt0W",
        "outputId": "42b3dc8e-20f3-4691-b30e-27c72b8b8ff2"
      },
      "execution_count": 9,
      "outputs": [
        {
          "output_type": "stream",
          "name": "stdout",
          "text": [
            "[nltk_data] Downloading package stopwords to /root/nltk_data...\n",
            "[nltk_data]   Package stopwords is already up-to-date!\n",
            "[nltk_data] Downloading package punkt to /root/nltk_data...\n",
            "[nltk_data]   Package punkt is already up-to-date!\n"
          ]
        }
      ]
    },
    {
      "cell_type": "code",
      "source": [
        "normalize_corpus(\"Hi how are you doing today!!!!!\")"
      ],
      "metadata": {
        "colab": {
          "base_uri": "https://localhost:8080/",
          "height": 35
        },
        "id": "-_QDVyL3nIGv",
        "outputId": "60b4ea34-4d31-46a7-c8b7-a36e5c655b2d"
      },
      "execution_count": 10,
      "outputs": [
        {
          "output_type": "execute_result",
          "data": {
            "text/plain": [
              "'hi today'"
            ],
            "application/vnd.google.colaboratory.intrinsic+json": {
              "type": "string"
            }
          },
          "metadata": {},
          "execution_count": 10
        }
      ]
    },
    {
      "cell_type": "code",
      "source": [
        "normalize_corpus = np.vectorize(normalize_corpus)\n",
        "\n",
        "norm_data = normalize_corpus(corpus)\n",
        "norm_data"
      ],
      "metadata": {
        "colab": {
          "base_uri": "https://localhost:8080/"
        },
        "id": "ThoDPjgVnIDF",
        "outputId": "4429cc47-3842-4be9-ad28-b1d27ece33df"
      },
      "execution_count": 11,
      "outputs": [
        {
          "output_type": "execute_result",
          "data": {
            "text/plain": [
              "array(['sky blue beautiful', 'love blue beautiful sky',\n",
              "       'quick brown fox jumps lazy dog',\n",
              "       'king breakfast sausages ham bacon eggs toast beans',\n",
              "       'love green eggs ham sausages bacon',\n",
              "       'brown fox quick blue dog lazy', 'sky blue sky beautiful today',\n",
              "       'dog lazy brown fox quick'], dtype='<U50')"
            ]
          },
          "metadata": {},
          "execution_count": 11
        }
      ]
    },
    {
      "cell_type": "code",
      "source": [
        "#Word2Vec - Continuous dense vector representations for each word \n",
        "#dense vectors - derive contextual and semantic similarity based information\n",
        "#Models take in massive corpus, A vocab, dense wordembeddings and their associations"
      ],
      "metadata": {
        "id": "6X20SuhfnH_c"
      },
      "execution_count": 5,
      "outputs": []
    },
    {
      "cell_type": "code",
      "source": [
        "      [1    2 3 4 5 6 7 8 ....... 300]\n",
        "Movie  freq "
      ],
      "metadata": {
        "colab": {
          "base_uri": "https://localhost:8080/",
          "height": 133
        },
        "id": "Y886uwl1n5Z5",
        "outputId": "5b4b3ff5-f186-46e5-9008-a026d39ddaab"
      },
      "execution_count": 6,
      "outputs": [
        {
          "output_type": "error",
          "ename": "SyntaxError",
          "evalue": "ignored",
          "traceback": [
            "\u001b[0;36m  File \u001b[0;32m\"<ipython-input-6-caa04c5a9b4a>\"\u001b[0;36m, line \u001b[0;32m1\u001b[0m\n\u001b[0;31m    [1    2 3 4 5 6 7 8 ....... 300]\u001b[0m\n\u001b[0m          ^\u001b[0m\n\u001b[0;31mSyntaxError\u001b[0m\u001b[0;31m:\u001b[0m invalid syntax\n"
          ]
        }
      ]
    },
    {
      "cell_type": "code",
      "source": [
        "from gensim.models import word2vec\n",
        "\n",
        "tokenized_corpus = [nltk.word_tokenize(doc) for doc in norm_data]\n",
        "\n",
        "#!!!!!!!!!!\n",
        "#Skip-Gram: tries to predict the context via estimating the neighbours - Understands the neighbours or predicts the neighbours\n",
        "#CBOW - Straighforward word - prediction based on neighbours  \n",
        "\n",
        "\n",
        "#Setting values of params very important!!!\n",
        "feature_size = 30 #word Vector dimensionality \n",
        "window_size = 20 #context window size\n",
        "min_word_count= 1 #This a way to remove infrequent words\n",
        "sg = 1 #1-CBOW\n",
        "\n",
        "w2v = word2vec.Word2Vec(tokenized_corpus, size= feature_size, window = window_size,min_count = min_word_count, sg = sg)\n",
        "w2v"
      ],
      "metadata": {
        "colab": {
          "base_uri": "https://localhost:8080/"
        },
        "id": "QlIQAHc-n5XB",
        "outputId": "4e68dbcd-c241-411e-f61a-fabc2048d9a6"
      },
      "execution_count": 12,
      "outputs": [
        {
          "output_type": "execute_result",
          "data": {
            "text/plain": [
              "<gensim.models.word2vec.Word2Vec at 0x7f721ab6f750>"
            ]
          },
          "metadata": {},
          "execution_count": 12
        }
      ]
    },
    {
      "cell_type": "code",
      "source": [
        "w2v['dog']"
      ],
      "metadata": {
        "colab": {
          "base_uri": "https://localhost:8080/"
        },
        "id": "L3WVQ4Asq7x7",
        "outputId": "7db93286-585b-42af-9c39-7034dc0783f6"
      },
      "execution_count": 13,
      "outputs": [
        {
          "output_type": "stream",
          "name": "stderr",
          "text": [
            "/usr/local/lib/python3.7/dist-packages/ipykernel_launcher.py:1: DeprecationWarning: Call to deprecated `__getitem__` (Method will be removed in 4.0.0, use self.wv.__getitem__() instead).\n",
            "  \"\"\"Entry point for launching an IPython kernel.\n"
          ]
        },
        {
          "output_type": "execute_result",
          "data": {
            "text/plain": [
              "array([-0.00271793, -0.0122023 ,  0.01405402, -0.00527638, -0.0136785 ,\n",
              "        0.01332208, -0.00951927, -0.00306002, -0.00720475,  0.0154483 ,\n",
              "        0.01449264, -0.01069017,  0.00676908, -0.00993239,  0.00221534,\n",
              "       -0.01353741,  0.01403666,  0.00012394, -0.00847595,  0.01355793,\n",
              "       -0.0058107 ,  0.00638192,  0.00610305, -0.01071622,  0.00277227,\n",
              "       -0.00291031,  0.00498171, -0.00473141,  0.00398886, -0.00630607],\n",
              "      dtype=float32)"
            ]
          },
          "metadata": {},
          "execution_count": 13
        }
      ]
    },
    {
      "cell_type": "code",
      "source": [
        "t-SNE - T-Distributed Stochastic Neighbour embedding."
      ],
      "metadata": {
        "id": "cTupUuhIq7vU"
      },
      "execution_count": null,
      "outputs": []
    },
    {
      "cell_type": "code",
      "source": [
        "import matplotlib.pyplot as plt\n",
        "%matplotlib inline\n",
        "\n",
        "#Visualize the Embeddings\n",
        "from sklearn.manifold import TSNE"
      ],
      "metadata": {
        "id": "Hv0X3rZpq7st"
      },
      "execution_count": 14,
      "outputs": []
    },
    {
      "cell_type": "code",
      "source": [
        "words = w2v.wv.index2word\n",
        "wvs = w2v.wv[words]\n",
        "\n",
        "tsne = TSNE(n_components = 2,n_iter = 5000, random_state = 42, perplexity=5)\n",
        "np.set_printoptions(suppress = True)\n",
        "T = tsne.fit_transform(wvs)\n",
        "labels = words"
      ],
      "metadata": {
        "colab": {
          "base_uri": "https://localhost:8080/"
        },
        "id": "PTMT2zQkq7m-",
        "outputId": "16c9c5d9-d973-45d9-a9b1-84ae3877d888"
      },
      "execution_count": 13,
      "outputs": [
        {
          "output_type": "stream",
          "name": "stderr",
          "text": [
            "/usr/local/lib/python3.7/dist-packages/sklearn/manifold/_t_sne.py:783: FutureWarning: The default initialization in TSNE will change from 'random' to 'pca' in 1.2.\n",
            "  FutureWarning,\n",
            "/usr/local/lib/python3.7/dist-packages/sklearn/manifold/_t_sne.py:793: FutureWarning: The default learning rate in TSNE will change from 200.0 to 'auto' in 1.2.\n",
            "  FutureWarning,\n"
          ]
        }
      ]
    },
    {
      "cell_type": "code",
      "source": [
        "plt.figure(figsize = (12,6))\n",
        "plt.scatter(T[:,0],T[:,1], c= 'orange',edgecolors = 'r')\n",
        "for label,x,y in zip(labels, T[:,0],T[:,1]):\n",
        "  plt.annotate(label, xy=(x+1,y+1), xytext = (0,0), textcoords = 'offset points')"
      ],
      "metadata": {
        "id": "IO3rq_rqn5Ud"
      },
      "execution_count": null,
      "outputs": []
    },
    {
      "cell_type": "code",
      "source": [
        "from sklearn.decomposition import PCA \n",
        "\n",
        "pca = PCA(n_components = 2)\n",
        "results = pca.fit_transform(wvs)\n",
        "plt.figure(figsize = (12,6))\n",
        "plt.scatter(results[:,0],results[:,1])\n",
        "for label,x,y in zip(labels, results[:,0],results[:,1]):\n",
        "  plt.annotate(label, xy=(x+1,y+1), xytext = (0,0), textcoords = 'offset points')\n",
        "plt.show()"
      ],
      "metadata": {
        "id": "OupKe5N2wF8m"
      },
      "execution_count": null,
      "outputs": []
    },
    {
      "cell_type": "code",
      "source": [
        "#Pretrained embeddings - Wikidata \n",
        "from gensim.models import KeyedVectors\n",
        "filename = \"drive/MyDrive/GoogleNews-vectors-negative300.bin.gz\"\n",
        "model = KeyedVectors.load_word2vec_format(filename, binary = True)"
      ],
      "metadata": {
        "id": "d-L1RF3OwF35"
      },
      "execution_count": 1,
      "outputs": []
    },
    {
      "cell_type": "code",
      "source": [
        "model['dog']"
      ],
      "metadata": {
        "id": "F-60CsOR80_1"
      },
      "execution_count": null,
      "outputs": []
    },
    {
      "cell_type": "code",
      "source": [
        "result = model.most_similar(positive = ['woman','king'], negative = ['man'],topn=1)\n",
        "print(result)"
      ],
      "metadata": {
        "colab": {
          "base_uri": "https://localhost:8080/"
        },
        "id": "hJ-BTqy_4ADc",
        "outputId": "885161ce-2570-4b25-a552-ce2d72bef091"
      },
      "execution_count": 2,
      "outputs": [
        {
          "output_type": "stream",
          "name": "stdout",
          "text": [
            "[('queen', 0.7118192911148071)]\n"
          ]
        }
      ]
    },
    {
      "cell_type": "code",
      "source": [
        "#Cosine Similary - Compare the similarity between two vectors "
      ],
      "metadata": {
        "id": "yktk2iB95p2x"
      },
      "execution_count": null,
      "outputs": []
    },
    {
      "cell_type": "code",
      "source": [
        "#(King - man) + woman = ?"
      ],
      "metadata": {
        "id": "3FYHqmpc3lgN"
      },
      "execution_count": null,
      "outputs": []
    },
    {
      "cell_type": "code",
      "source": [
        "import numpy as np\n",
        "from sklearn.metrics.pairwise import cosine_similarity \n",
        "\n",
        "vec_df= pd.DataFrame(wvs, index = words)\n",
        "similarity_matrix = cosine_similarity(vec_df)\n",
        "\n",
        "similarity_df = pd.DataFrame(similarity_matrix, index = words, columns = words)\n",
        "similarity_df"
      ],
      "metadata": {
        "id": "kSFrSQJW3CQL"
      },
      "execution_count": null,
      "outputs": []
    },
    {
      "cell_type": "code",
      "source": [
        "similarity_df"
      ],
      "metadata": {
        "colab": {
          "base_uri": "https://localhost:8080/",
          "height": 740
        },
        "id": "M9N8iJGu7ppf",
        "outputId": "32557509-7c11-4338-820c-854d84c1dd47"
      },
      "execution_count": 16,
      "outputs": [
        {
          "output_type": "execute_result",
          "data": {
            "text/plain": [
              "                sky      blue  beautiful     quick     brown       fox  \\\n",
              "sky        1.000000  0.172967  -0.237806 -0.545809 -0.044811  0.105792   \n",
              "blue       0.172967  1.000000   0.149438  0.128687 -0.180209 -0.147679   \n",
              "beautiful -0.237806  0.149438   1.000000  0.041486  0.034886  0.029363   \n",
              "quick     -0.545809  0.128687   0.041486  1.000000  0.121551 -0.123950   \n",
              "brown     -0.044811 -0.180209   0.034886  0.121551  1.000000  0.234290   \n",
              "fox        0.105792 -0.147679   0.029363 -0.123950  0.234290  1.000000   \n",
              "lazy      -0.212688  0.019689   0.210818  0.144965 -0.018825  0.261326   \n",
              "dog        0.227601  0.614073   0.224398  0.054111 -0.182190 -0.091097   \n",
              "love      -0.063178 -0.472306   0.015364  0.010493 -0.077648  0.086774   \n",
              "sausages   0.238111 -0.068681  -0.378716  0.055074 -0.073668  0.338317   \n",
              "ham        0.057683  0.110224  -0.241996  0.107743  0.112060 -0.129150   \n",
              "bacon     -0.129272  0.262081   0.334161  0.259632 -0.171049 -0.044786   \n",
              "eggs      -0.209002 -0.098872   0.107342 -0.064145 -0.368494 -0.204974   \n",
              "jumps     -0.069799 -0.026826  -0.095755  0.247244 -0.006957  0.138525   \n",
              "king      -0.172450 -0.045835  -0.343228  0.119955  0.145890 -0.440282   \n",
              "breakfast -0.108620 -0.178362   0.083692  0.365653  0.074840 -0.152286   \n",
              "toast     -0.222268 -0.246632   0.284470  0.083007 -0.016878  0.156927   \n",
              "beans     -0.034565  0.024639  -0.113547  0.193296  0.053339  0.106286   \n",
              "green      0.340288  0.135450   0.076865 -0.183908 -0.202803  0.194533   \n",
              "today     -0.007004  0.093982   0.036622  0.069221  0.195176  0.294678   \n",
              "\n",
              "               lazy       dog      love  sausages       ham     bacon  \\\n",
              "sky       -0.212688  0.227601 -0.063178  0.238111  0.057683 -0.129272   \n",
              "blue       0.019689  0.614073 -0.472306 -0.068681  0.110224  0.262081   \n",
              "beautiful  0.210818  0.224398  0.015364 -0.378716 -0.241996  0.334161   \n",
              "quick      0.144965  0.054111  0.010493  0.055074  0.107743  0.259632   \n",
              "brown     -0.018825 -0.182190 -0.077648 -0.073668  0.112060 -0.171049   \n",
              "fox        0.261326 -0.091097  0.086774  0.338317 -0.129150 -0.044786   \n",
              "lazy       1.000000  0.124374  0.012416 -0.172673  0.083384  0.200271   \n",
              "dog        0.124374  1.000000  0.038511 -0.078520  0.103818  0.135426   \n",
              "love       0.012416  0.038511  1.000000  0.052693 -0.091495 -0.310212   \n",
              "sausages  -0.172673 -0.078520  0.052693  1.000000  0.223719 -0.120854   \n",
              "ham        0.083384  0.103818 -0.091495  0.223719  1.000000  0.261927   \n",
              "bacon      0.200271  0.135426 -0.310212 -0.120854  0.261927  1.000000   \n",
              "eggs      -0.113909 -0.157280  0.026745 -0.067335  0.011488 -0.110889   \n",
              "jumps      0.282032 -0.118506 -0.043673 -0.030251  0.060336  0.181563   \n",
              "king       0.085693  0.127868  0.100944 -0.122525  0.351050 -0.244919   \n",
              "breakfast  0.140864 -0.161929 -0.137835  0.057385  0.089645  0.257482   \n",
              "toast      0.268947  0.004262  0.073182 -0.178929 -0.160562  0.035257   \n",
              "beans      0.076797 -0.107176 -0.087453  0.078294  0.098006  0.415572   \n",
              "green     -0.032118  0.371209  0.185184  0.178567 -0.063990 -0.079343   \n",
              "today     -0.037151  0.134873 -0.240575  0.257997  0.133883 -0.087908   \n",
              "\n",
              "               eggs     jumps      king  breakfast     toast     beans  \\\n",
              "sky       -0.209002 -0.069799 -0.172450  -0.108620 -0.222268 -0.034565   \n",
              "blue      -0.098872 -0.026826 -0.045835  -0.178362 -0.246632  0.024639   \n",
              "beautiful  0.107342 -0.095755 -0.343228   0.083692  0.284470 -0.113547   \n",
              "quick     -0.064145  0.247244  0.119955   0.365653  0.083007  0.193296   \n",
              "brown     -0.368494 -0.006957  0.145890   0.074840 -0.016878  0.053339   \n",
              "fox       -0.204974  0.138525 -0.440282  -0.152286  0.156927  0.106286   \n",
              "lazy      -0.113909  0.282032  0.085693   0.140864  0.268947  0.076797   \n",
              "dog       -0.157280 -0.118506  0.127868  -0.161929  0.004262 -0.107176   \n",
              "love       0.026745 -0.043673  0.100944  -0.137835  0.073182 -0.087453   \n",
              "sausages  -0.067335 -0.030251 -0.122525   0.057385 -0.178929  0.078294   \n",
              "ham        0.011488  0.060336  0.351050   0.089645 -0.160562  0.098006   \n",
              "bacon     -0.110889  0.181563 -0.244919   0.257482  0.035257  0.415572   \n",
              "eggs       1.000000 -0.131321 -0.036330  -0.077809  0.063704 -0.132607   \n",
              "jumps     -0.131321  1.000000 -0.014034   0.315165  0.043746 -0.043794   \n",
              "king      -0.036330 -0.014034  1.000000   0.126076 -0.043889  0.048606   \n",
              "breakfast -0.077809  0.315165  0.126076   1.000000 -0.183753  0.188507   \n",
              "toast      0.063704  0.043746 -0.043889  -0.183753  1.000000 -0.063496   \n",
              "beans     -0.132607 -0.043794  0.048606   0.188507 -0.063496  1.000000   \n",
              "green     -0.026676  0.018605 -0.120719  -0.381082  0.119753 -0.260041   \n",
              "today     -0.235256  0.038285 -0.083524  -0.103071  0.089507 -0.466124   \n",
              "\n",
              "              green     today  \n",
              "sky        0.340288 -0.007004  \n",
              "blue       0.135450  0.093982  \n",
              "beautiful  0.076865  0.036622  \n",
              "quick     -0.183908  0.069221  \n",
              "brown     -0.202803  0.195176  \n",
              "fox        0.194533  0.294678  \n",
              "lazy      -0.032118 -0.037151  \n",
              "dog        0.371209  0.134873  \n",
              "love       0.185184 -0.240575  \n",
              "sausages   0.178567  0.257997  \n",
              "ham       -0.063990  0.133883  \n",
              "bacon     -0.079343 -0.087908  \n",
              "eggs      -0.026676 -0.235256  \n",
              "jumps      0.018605  0.038285  \n",
              "king      -0.120719 -0.083524  \n",
              "breakfast -0.381082 -0.103071  \n",
              "toast      0.119753  0.089507  \n",
              "beans     -0.260041 -0.466124  \n",
              "green      1.000000  0.142602  \n",
              "today      0.142602  1.000000  "
            ],
            "text/html": [
              "\n",
              "  <div id=\"df-764c4c26-8fca-4d26-8ba0-75f1b4c9c36a\">\n",
              "    <div class=\"colab-df-container\">\n",
              "      <div>\n",
              "<style scoped>\n",
              "    .dataframe tbody tr th:only-of-type {\n",
              "        vertical-align: middle;\n",
              "    }\n",
              "\n",
              "    .dataframe tbody tr th {\n",
              "        vertical-align: top;\n",
              "    }\n",
              "\n",
              "    .dataframe thead th {\n",
              "        text-align: right;\n",
              "    }\n",
              "</style>\n",
              "<table border=\"1\" class=\"dataframe\">\n",
              "  <thead>\n",
              "    <tr style=\"text-align: right;\">\n",
              "      <th></th>\n",
              "      <th>sky</th>\n",
              "      <th>blue</th>\n",
              "      <th>beautiful</th>\n",
              "      <th>quick</th>\n",
              "      <th>brown</th>\n",
              "      <th>fox</th>\n",
              "      <th>lazy</th>\n",
              "      <th>dog</th>\n",
              "      <th>love</th>\n",
              "      <th>sausages</th>\n",
              "      <th>ham</th>\n",
              "      <th>bacon</th>\n",
              "      <th>eggs</th>\n",
              "      <th>jumps</th>\n",
              "      <th>king</th>\n",
              "      <th>breakfast</th>\n",
              "      <th>toast</th>\n",
              "      <th>beans</th>\n",
              "      <th>green</th>\n",
              "      <th>today</th>\n",
              "    </tr>\n",
              "  </thead>\n",
              "  <tbody>\n",
              "    <tr>\n",
              "      <th>sky</th>\n",
              "      <td>1.000000</td>\n",
              "      <td>0.172967</td>\n",
              "      <td>-0.237806</td>\n",
              "      <td>-0.545809</td>\n",
              "      <td>-0.044811</td>\n",
              "      <td>0.105792</td>\n",
              "      <td>-0.212688</td>\n",
              "      <td>0.227601</td>\n",
              "      <td>-0.063178</td>\n",
              "      <td>0.238111</td>\n",
              "      <td>0.057683</td>\n",
              "      <td>-0.129272</td>\n",
              "      <td>-0.209002</td>\n",
              "      <td>-0.069799</td>\n",
              "      <td>-0.172450</td>\n",
              "      <td>-0.108620</td>\n",
              "      <td>-0.222268</td>\n",
              "      <td>-0.034565</td>\n",
              "      <td>0.340288</td>\n",
              "      <td>-0.007004</td>\n",
              "    </tr>\n",
              "    <tr>\n",
              "      <th>blue</th>\n",
              "      <td>0.172967</td>\n",
              "      <td>1.000000</td>\n",
              "      <td>0.149438</td>\n",
              "      <td>0.128687</td>\n",
              "      <td>-0.180209</td>\n",
              "      <td>-0.147679</td>\n",
              "      <td>0.019689</td>\n",
              "      <td>0.614073</td>\n",
              "      <td>-0.472306</td>\n",
              "      <td>-0.068681</td>\n",
              "      <td>0.110224</td>\n",
              "      <td>0.262081</td>\n",
              "      <td>-0.098872</td>\n",
              "      <td>-0.026826</td>\n",
              "      <td>-0.045835</td>\n",
              "      <td>-0.178362</td>\n",
              "      <td>-0.246632</td>\n",
              "      <td>0.024639</td>\n",
              "      <td>0.135450</td>\n",
              "      <td>0.093982</td>\n",
              "    </tr>\n",
              "    <tr>\n",
              "      <th>beautiful</th>\n",
              "      <td>-0.237806</td>\n",
              "      <td>0.149438</td>\n",
              "      <td>1.000000</td>\n",
              "      <td>0.041486</td>\n",
              "      <td>0.034886</td>\n",
              "      <td>0.029363</td>\n",
              "      <td>0.210818</td>\n",
              "      <td>0.224398</td>\n",
              "      <td>0.015364</td>\n",
              "      <td>-0.378716</td>\n",
              "      <td>-0.241996</td>\n",
              "      <td>0.334161</td>\n",
              "      <td>0.107342</td>\n",
              "      <td>-0.095755</td>\n",
              "      <td>-0.343228</td>\n",
              "      <td>0.083692</td>\n",
              "      <td>0.284470</td>\n",
              "      <td>-0.113547</td>\n",
              "      <td>0.076865</td>\n",
              "      <td>0.036622</td>\n",
              "    </tr>\n",
              "    <tr>\n",
              "      <th>quick</th>\n",
              "      <td>-0.545809</td>\n",
              "      <td>0.128687</td>\n",
              "      <td>0.041486</td>\n",
              "      <td>1.000000</td>\n",
              "      <td>0.121551</td>\n",
              "      <td>-0.123950</td>\n",
              "      <td>0.144965</td>\n",
              "      <td>0.054111</td>\n",
              "      <td>0.010493</td>\n",
              "      <td>0.055074</td>\n",
              "      <td>0.107743</td>\n",
              "      <td>0.259632</td>\n",
              "      <td>-0.064145</td>\n",
              "      <td>0.247244</td>\n",
              "      <td>0.119955</td>\n",
              "      <td>0.365653</td>\n",
              "      <td>0.083007</td>\n",
              "      <td>0.193296</td>\n",
              "      <td>-0.183908</td>\n",
              "      <td>0.069221</td>\n",
              "    </tr>\n",
              "    <tr>\n",
              "      <th>brown</th>\n",
              "      <td>-0.044811</td>\n",
              "      <td>-0.180209</td>\n",
              "      <td>0.034886</td>\n",
              "      <td>0.121551</td>\n",
              "      <td>1.000000</td>\n",
              "      <td>0.234290</td>\n",
              "      <td>-0.018825</td>\n",
              "      <td>-0.182190</td>\n",
              "      <td>-0.077648</td>\n",
              "      <td>-0.073668</td>\n",
              "      <td>0.112060</td>\n",
              "      <td>-0.171049</td>\n",
              "      <td>-0.368494</td>\n",
              "      <td>-0.006957</td>\n",
              "      <td>0.145890</td>\n",
              "      <td>0.074840</td>\n",
              "      <td>-0.016878</td>\n",
              "      <td>0.053339</td>\n",
              "      <td>-0.202803</td>\n",
              "      <td>0.195176</td>\n",
              "    </tr>\n",
              "    <tr>\n",
              "      <th>fox</th>\n",
              "      <td>0.105792</td>\n",
              "      <td>-0.147679</td>\n",
              "      <td>0.029363</td>\n",
              "      <td>-0.123950</td>\n",
              "      <td>0.234290</td>\n",
              "      <td>1.000000</td>\n",
              "      <td>0.261326</td>\n",
              "      <td>-0.091097</td>\n",
              "      <td>0.086774</td>\n",
              "      <td>0.338317</td>\n",
              "      <td>-0.129150</td>\n",
              "      <td>-0.044786</td>\n",
              "      <td>-0.204974</td>\n",
              "      <td>0.138525</td>\n",
              "      <td>-0.440282</td>\n",
              "      <td>-0.152286</td>\n",
              "      <td>0.156927</td>\n",
              "      <td>0.106286</td>\n",
              "      <td>0.194533</td>\n",
              "      <td>0.294678</td>\n",
              "    </tr>\n",
              "    <tr>\n",
              "      <th>lazy</th>\n",
              "      <td>-0.212688</td>\n",
              "      <td>0.019689</td>\n",
              "      <td>0.210818</td>\n",
              "      <td>0.144965</td>\n",
              "      <td>-0.018825</td>\n",
              "      <td>0.261326</td>\n",
              "      <td>1.000000</td>\n",
              "      <td>0.124374</td>\n",
              "      <td>0.012416</td>\n",
              "      <td>-0.172673</td>\n",
              "      <td>0.083384</td>\n",
              "      <td>0.200271</td>\n",
              "      <td>-0.113909</td>\n",
              "      <td>0.282032</td>\n",
              "      <td>0.085693</td>\n",
              "      <td>0.140864</td>\n",
              "      <td>0.268947</td>\n",
              "      <td>0.076797</td>\n",
              "      <td>-0.032118</td>\n",
              "      <td>-0.037151</td>\n",
              "    </tr>\n",
              "    <tr>\n",
              "      <th>dog</th>\n",
              "      <td>0.227601</td>\n",
              "      <td>0.614073</td>\n",
              "      <td>0.224398</td>\n",
              "      <td>0.054111</td>\n",
              "      <td>-0.182190</td>\n",
              "      <td>-0.091097</td>\n",
              "      <td>0.124374</td>\n",
              "      <td>1.000000</td>\n",
              "      <td>0.038511</td>\n",
              "      <td>-0.078520</td>\n",
              "      <td>0.103818</td>\n",
              "      <td>0.135426</td>\n",
              "      <td>-0.157280</td>\n",
              "      <td>-0.118506</td>\n",
              "      <td>0.127868</td>\n",
              "      <td>-0.161929</td>\n",
              "      <td>0.004262</td>\n",
              "      <td>-0.107176</td>\n",
              "      <td>0.371209</td>\n",
              "      <td>0.134873</td>\n",
              "    </tr>\n",
              "    <tr>\n",
              "      <th>love</th>\n",
              "      <td>-0.063178</td>\n",
              "      <td>-0.472306</td>\n",
              "      <td>0.015364</td>\n",
              "      <td>0.010493</td>\n",
              "      <td>-0.077648</td>\n",
              "      <td>0.086774</td>\n",
              "      <td>0.012416</td>\n",
              "      <td>0.038511</td>\n",
              "      <td>1.000000</td>\n",
              "      <td>0.052693</td>\n",
              "      <td>-0.091495</td>\n",
              "      <td>-0.310212</td>\n",
              "      <td>0.026745</td>\n",
              "      <td>-0.043673</td>\n",
              "      <td>0.100944</td>\n",
              "      <td>-0.137835</td>\n",
              "      <td>0.073182</td>\n",
              "      <td>-0.087453</td>\n",
              "      <td>0.185184</td>\n",
              "      <td>-0.240575</td>\n",
              "    </tr>\n",
              "    <tr>\n",
              "      <th>sausages</th>\n",
              "      <td>0.238111</td>\n",
              "      <td>-0.068681</td>\n",
              "      <td>-0.378716</td>\n",
              "      <td>0.055074</td>\n",
              "      <td>-0.073668</td>\n",
              "      <td>0.338317</td>\n",
              "      <td>-0.172673</td>\n",
              "      <td>-0.078520</td>\n",
              "      <td>0.052693</td>\n",
              "      <td>1.000000</td>\n",
              "      <td>0.223719</td>\n",
              "      <td>-0.120854</td>\n",
              "      <td>-0.067335</td>\n",
              "      <td>-0.030251</td>\n",
              "      <td>-0.122525</td>\n",
              "      <td>0.057385</td>\n",
              "      <td>-0.178929</td>\n",
              "      <td>0.078294</td>\n",
              "      <td>0.178567</td>\n",
              "      <td>0.257997</td>\n",
              "    </tr>\n",
              "    <tr>\n",
              "      <th>ham</th>\n",
              "      <td>0.057683</td>\n",
              "      <td>0.110224</td>\n",
              "      <td>-0.241996</td>\n",
              "      <td>0.107743</td>\n",
              "      <td>0.112060</td>\n",
              "      <td>-0.129150</td>\n",
              "      <td>0.083384</td>\n",
              "      <td>0.103818</td>\n",
              "      <td>-0.091495</td>\n",
              "      <td>0.223719</td>\n",
              "      <td>1.000000</td>\n",
              "      <td>0.261927</td>\n",
              "      <td>0.011488</td>\n",
              "      <td>0.060336</td>\n",
              "      <td>0.351050</td>\n",
              "      <td>0.089645</td>\n",
              "      <td>-0.160562</td>\n",
              "      <td>0.098006</td>\n",
              "      <td>-0.063990</td>\n",
              "      <td>0.133883</td>\n",
              "    </tr>\n",
              "    <tr>\n",
              "      <th>bacon</th>\n",
              "      <td>-0.129272</td>\n",
              "      <td>0.262081</td>\n",
              "      <td>0.334161</td>\n",
              "      <td>0.259632</td>\n",
              "      <td>-0.171049</td>\n",
              "      <td>-0.044786</td>\n",
              "      <td>0.200271</td>\n",
              "      <td>0.135426</td>\n",
              "      <td>-0.310212</td>\n",
              "      <td>-0.120854</td>\n",
              "      <td>0.261927</td>\n",
              "      <td>1.000000</td>\n",
              "      <td>-0.110889</td>\n",
              "      <td>0.181563</td>\n",
              "      <td>-0.244919</td>\n",
              "      <td>0.257482</td>\n",
              "      <td>0.035257</td>\n",
              "      <td>0.415572</td>\n",
              "      <td>-0.079343</td>\n",
              "      <td>-0.087908</td>\n",
              "    </tr>\n",
              "    <tr>\n",
              "      <th>eggs</th>\n",
              "      <td>-0.209002</td>\n",
              "      <td>-0.098872</td>\n",
              "      <td>0.107342</td>\n",
              "      <td>-0.064145</td>\n",
              "      <td>-0.368494</td>\n",
              "      <td>-0.204974</td>\n",
              "      <td>-0.113909</td>\n",
              "      <td>-0.157280</td>\n",
              "      <td>0.026745</td>\n",
              "      <td>-0.067335</td>\n",
              "      <td>0.011488</td>\n",
              "      <td>-0.110889</td>\n",
              "      <td>1.000000</td>\n",
              "      <td>-0.131321</td>\n",
              "      <td>-0.036330</td>\n",
              "      <td>-0.077809</td>\n",
              "      <td>0.063704</td>\n",
              "      <td>-0.132607</td>\n",
              "      <td>-0.026676</td>\n",
              "      <td>-0.235256</td>\n",
              "    </tr>\n",
              "    <tr>\n",
              "      <th>jumps</th>\n",
              "      <td>-0.069799</td>\n",
              "      <td>-0.026826</td>\n",
              "      <td>-0.095755</td>\n",
              "      <td>0.247244</td>\n",
              "      <td>-0.006957</td>\n",
              "      <td>0.138525</td>\n",
              "      <td>0.282032</td>\n",
              "      <td>-0.118506</td>\n",
              "      <td>-0.043673</td>\n",
              "      <td>-0.030251</td>\n",
              "      <td>0.060336</td>\n",
              "      <td>0.181563</td>\n",
              "      <td>-0.131321</td>\n",
              "      <td>1.000000</td>\n",
              "      <td>-0.014034</td>\n",
              "      <td>0.315165</td>\n",
              "      <td>0.043746</td>\n",
              "      <td>-0.043794</td>\n",
              "      <td>0.018605</td>\n",
              "      <td>0.038285</td>\n",
              "    </tr>\n",
              "    <tr>\n",
              "      <th>king</th>\n",
              "      <td>-0.172450</td>\n",
              "      <td>-0.045835</td>\n",
              "      <td>-0.343228</td>\n",
              "      <td>0.119955</td>\n",
              "      <td>0.145890</td>\n",
              "      <td>-0.440282</td>\n",
              "      <td>0.085693</td>\n",
              "      <td>0.127868</td>\n",
              "      <td>0.100944</td>\n",
              "      <td>-0.122525</td>\n",
              "      <td>0.351050</td>\n",
              "      <td>-0.244919</td>\n",
              "      <td>-0.036330</td>\n",
              "      <td>-0.014034</td>\n",
              "      <td>1.000000</td>\n",
              "      <td>0.126076</td>\n",
              "      <td>-0.043889</td>\n",
              "      <td>0.048606</td>\n",
              "      <td>-0.120719</td>\n",
              "      <td>-0.083524</td>\n",
              "    </tr>\n",
              "    <tr>\n",
              "      <th>breakfast</th>\n",
              "      <td>-0.108620</td>\n",
              "      <td>-0.178362</td>\n",
              "      <td>0.083692</td>\n",
              "      <td>0.365653</td>\n",
              "      <td>0.074840</td>\n",
              "      <td>-0.152286</td>\n",
              "      <td>0.140864</td>\n",
              "      <td>-0.161929</td>\n",
              "      <td>-0.137835</td>\n",
              "      <td>0.057385</td>\n",
              "      <td>0.089645</td>\n",
              "      <td>0.257482</td>\n",
              "      <td>-0.077809</td>\n",
              "      <td>0.315165</td>\n",
              "      <td>0.126076</td>\n",
              "      <td>1.000000</td>\n",
              "      <td>-0.183753</td>\n",
              "      <td>0.188507</td>\n",
              "      <td>-0.381082</td>\n",
              "      <td>-0.103071</td>\n",
              "    </tr>\n",
              "    <tr>\n",
              "      <th>toast</th>\n",
              "      <td>-0.222268</td>\n",
              "      <td>-0.246632</td>\n",
              "      <td>0.284470</td>\n",
              "      <td>0.083007</td>\n",
              "      <td>-0.016878</td>\n",
              "      <td>0.156927</td>\n",
              "      <td>0.268947</td>\n",
              "      <td>0.004262</td>\n",
              "      <td>0.073182</td>\n",
              "      <td>-0.178929</td>\n",
              "      <td>-0.160562</td>\n",
              "      <td>0.035257</td>\n",
              "      <td>0.063704</td>\n",
              "      <td>0.043746</td>\n",
              "      <td>-0.043889</td>\n",
              "      <td>-0.183753</td>\n",
              "      <td>1.000000</td>\n",
              "      <td>-0.063496</td>\n",
              "      <td>0.119753</td>\n",
              "      <td>0.089507</td>\n",
              "    </tr>\n",
              "    <tr>\n",
              "      <th>beans</th>\n",
              "      <td>-0.034565</td>\n",
              "      <td>0.024639</td>\n",
              "      <td>-0.113547</td>\n",
              "      <td>0.193296</td>\n",
              "      <td>0.053339</td>\n",
              "      <td>0.106286</td>\n",
              "      <td>0.076797</td>\n",
              "      <td>-0.107176</td>\n",
              "      <td>-0.087453</td>\n",
              "      <td>0.078294</td>\n",
              "      <td>0.098006</td>\n",
              "      <td>0.415572</td>\n",
              "      <td>-0.132607</td>\n",
              "      <td>-0.043794</td>\n",
              "      <td>0.048606</td>\n",
              "      <td>0.188507</td>\n",
              "      <td>-0.063496</td>\n",
              "      <td>1.000000</td>\n",
              "      <td>-0.260041</td>\n",
              "      <td>-0.466124</td>\n",
              "    </tr>\n",
              "    <tr>\n",
              "      <th>green</th>\n",
              "      <td>0.340288</td>\n",
              "      <td>0.135450</td>\n",
              "      <td>0.076865</td>\n",
              "      <td>-0.183908</td>\n",
              "      <td>-0.202803</td>\n",
              "      <td>0.194533</td>\n",
              "      <td>-0.032118</td>\n",
              "      <td>0.371209</td>\n",
              "      <td>0.185184</td>\n",
              "      <td>0.178567</td>\n",
              "      <td>-0.063990</td>\n",
              "      <td>-0.079343</td>\n",
              "      <td>-0.026676</td>\n",
              "      <td>0.018605</td>\n",
              "      <td>-0.120719</td>\n",
              "      <td>-0.381082</td>\n",
              "      <td>0.119753</td>\n",
              "      <td>-0.260041</td>\n",
              "      <td>1.000000</td>\n",
              "      <td>0.142602</td>\n",
              "    </tr>\n",
              "    <tr>\n",
              "      <th>today</th>\n",
              "      <td>-0.007004</td>\n",
              "      <td>0.093982</td>\n",
              "      <td>0.036622</td>\n",
              "      <td>0.069221</td>\n",
              "      <td>0.195176</td>\n",
              "      <td>0.294678</td>\n",
              "      <td>-0.037151</td>\n",
              "      <td>0.134873</td>\n",
              "      <td>-0.240575</td>\n",
              "      <td>0.257997</td>\n",
              "      <td>0.133883</td>\n",
              "      <td>-0.087908</td>\n",
              "      <td>-0.235256</td>\n",
              "      <td>0.038285</td>\n",
              "      <td>-0.083524</td>\n",
              "      <td>-0.103071</td>\n",
              "      <td>0.089507</td>\n",
              "      <td>-0.466124</td>\n",
              "      <td>0.142602</td>\n",
              "      <td>1.000000</td>\n",
              "    </tr>\n",
              "  </tbody>\n",
              "</table>\n",
              "</div>\n",
              "      <button class=\"colab-df-convert\" onclick=\"convertToInteractive('df-764c4c26-8fca-4d26-8ba0-75f1b4c9c36a')\"\n",
              "              title=\"Convert this dataframe to an interactive table.\"\n",
              "              style=\"display:none;\">\n",
              "        \n",
              "  <svg xmlns=\"http://www.w3.org/2000/svg\" height=\"24px\"viewBox=\"0 0 24 24\"\n",
              "       width=\"24px\">\n",
              "    <path d=\"M0 0h24v24H0V0z\" fill=\"none\"/>\n",
              "    <path d=\"M18.56 5.44l.94 2.06.94-2.06 2.06-.94-2.06-.94-.94-2.06-.94 2.06-2.06.94zm-11 1L8.5 8.5l.94-2.06 2.06-.94-2.06-.94L8.5 2.5l-.94 2.06-2.06.94zm10 10l.94 2.06.94-2.06 2.06-.94-2.06-.94-.94-2.06-.94 2.06-2.06.94z\"/><path d=\"M17.41 7.96l-1.37-1.37c-.4-.4-.92-.59-1.43-.59-.52 0-1.04.2-1.43.59L10.3 9.45l-7.72 7.72c-.78.78-.78 2.05 0 2.83L4 21.41c.39.39.9.59 1.41.59.51 0 1.02-.2 1.41-.59l7.78-7.78 2.81-2.81c.8-.78.8-2.07 0-2.86zM5.41 20L4 18.59l7.72-7.72 1.47 1.35L5.41 20z\"/>\n",
              "  </svg>\n",
              "      </button>\n",
              "      \n",
              "  <style>\n",
              "    .colab-df-container {\n",
              "      display:flex;\n",
              "      flex-wrap:wrap;\n",
              "      gap: 12px;\n",
              "    }\n",
              "\n",
              "    .colab-df-convert {\n",
              "      background-color: #E8F0FE;\n",
              "      border: none;\n",
              "      border-radius: 50%;\n",
              "      cursor: pointer;\n",
              "      display: none;\n",
              "      fill: #1967D2;\n",
              "      height: 32px;\n",
              "      padding: 0 0 0 0;\n",
              "      width: 32px;\n",
              "    }\n",
              "\n",
              "    .colab-df-convert:hover {\n",
              "      background-color: #E2EBFA;\n",
              "      box-shadow: 0px 1px 2px rgba(60, 64, 67, 0.3), 0px 1px 3px 1px rgba(60, 64, 67, 0.15);\n",
              "      fill: #174EA6;\n",
              "    }\n",
              "\n",
              "    [theme=dark] .colab-df-convert {\n",
              "      background-color: #3B4455;\n",
              "      fill: #D2E3FC;\n",
              "    }\n",
              "\n",
              "    [theme=dark] .colab-df-convert:hover {\n",
              "      background-color: #434B5C;\n",
              "      box-shadow: 0px 1px 3px 1px rgba(0, 0, 0, 0.15);\n",
              "      filter: drop-shadow(0px 1px 2px rgba(0, 0, 0, 0.3));\n",
              "      fill: #FFFFFF;\n",
              "    }\n",
              "  </style>\n",
              "\n",
              "      <script>\n",
              "        const buttonEl =\n",
              "          document.querySelector('#df-764c4c26-8fca-4d26-8ba0-75f1b4c9c36a button.colab-df-convert');\n",
              "        buttonEl.style.display =\n",
              "          google.colab.kernel.accessAllowed ? 'block' : 'none';\n",
              "\n",
              "        async function convertToInteractive(key) {\n",
              "          const element = document.querySelector('#df-764c4c26-8fca-4d26-8ba0-75f1b4c9c36a');\n",
              "          const dataTable =\n",
              "            await google.colab.kernel.invokeFunction('convertToInteractive',\n",
              "                                                     [key], {});\n",
              "          if (!dataTable) return;\n",
              "\n",
              "          const docLinkHtml = 'Like what you see? Visit the ' +\n",
              "            '<a target=\"_blank\" href=https://colab.research.google.com/notebooks/data_table.ipynb>data table notebook</a>'\n",
              "            + ' to learn more about interactive tables.';\n",
              "          element.innerHTML = '';\n",
              "          dataTable['output_type'] = 'display_data';\n",
              "          await google.colab.output.renderOutput(dataTable, element);\n",
              "          const docLink = document.createElement('div');\n",
              "          docLink.innerHTML = docLinkHtml;\n",
              "          element.appendChild(docLink);\n",
              "        }\n",
              "      </script>\n",
              "    </div>\n",
              "  </div>\n",
              "  "
            ]
          },
          "metadata": {},
          "execution_count": 16
        }
      ]
    },
    {
      "cell_type": "code",
      "source": [
        "#Glove - Stanford NLP \n",
        "#just like word2vec - Glove are also wordvectors\n",
        "#Aggregated value of w2w - co-occerence matrices, Word context, word-Feature and Feature context"
      ],
      "metadata": {
        "id": "XjoK9smb3CIq"
      },
      "execution_count": null,
      "outputs": []
    },
    {
      "cell_type": "code",
      "source": [
        "!python -m spacy download en_core_web_sm"
      ],
      "metadata": {
        "colab": {
          "base_uri": "https://localhost:8080/"
        },
        "id": "PBCWDyKN3CFA",
        "outputId": "b3842e9e-91b9-495f-fc66-6bd0088ee8b6"
      },
      "execution_count": 17,
      "outputs": [
        {
          "output_type": "stream",
          "name": "stdout",
          "text": [
            "Collecting en_core_web_sm==2.2.5\n",
            "  Downloading https://github.com/explosion/spacy-models/releases/download/en_core_web_sm-2.2.5/en_core_web_sm-2.2.5.tar.gz (12.0 MB)\n",
            "\u001b[K     |████████████████████████████████| 12.0 MB 5.4 MB/s \n",
            "\u001b[?25hRequirement already satisfied: spacy>=2.2.2 in /usr/local/lib/python3.7/dist-packages (from en_core_web_sm==2.2.5) (2.2.4)\n",
            "Requirement already satisfied: thinc==7.4.0 in /usr/local/lib/python3.7/dist-packages (from spacy>=2.2.2->en_core_web_sm==2.2.5) (7.4.0)\n",
            "Requirement already satisfied: blis<0.5.0,>=0.4.0 in /usr/local/lib/python3.7/dist-packages (from spacy>=2.2.2->en_core_web_sm==2.2.5) (0.4.1)\n",
            "Requirement already satisfied: cymem<2.1.0,>=2.0.2 in /usr/local/lib/python3.7/dist-packages (from spacy>=2.2.2->en_core_web_sm==2.2.5) (2.0.6)\n",
            "Requirement already satisfied: wasabi<1.1.0,>=0.4.0 in /usr/local/lib/python3.7/dist-packages (from spacy>=2.2.2->en_core_web_sm==2.2.5) (0.9.1)\n",
            "Requirement already satisfied: requests<3.0.0,>=2.13.0 in /usr/local/lib/python3.7/dist-packages (from spacy>=2.2.2->en_core_web_sm==2.2.5) (2.23.0)\n",
            "Requirement already satisfied: numpy>=1.15.0 in /usr/local/lib/python3.7/dist-packages (from spacy>=2.2.2->en_core_web_sm==2.2.5) (1.21.6)\n",
            "Requirement already satisfied: setuptools in /usr/local/lib/python3.7/dist-packages (from spacy>=2.2.2->en_core_web_sm==2.2.5) (57.4.0)\n",
            "Requirement already satisfied: tqdm<5.0.0,>=4.38.0 in /usr/local/lib/python3.7/dist-packages (from spacy>=2.2.2->en_core_web_sm==2.2.5) (4.64.0)\n",
            "Requirement already satisfied: murmurhash<1.1.0,>=0.28.0 in /usr/local/lib/python3.7/dist-packages (from spacy>=2.2.2->en_core_web_sm==2.2.5) (1.0.6)\n",
            "Requirement already satisfied: plac<1.2.0,>=0.9.6 in /usr/local/lib/python3.7/dist-packages (from spacy>=2.2.2->en_core_web_sm==2.2.5) (1.1.3)\n",
            "Requirement already satisfied: catalogue<1.1.0,>=0.0.7 in /usr/local/lib/python3.7/dist-packages (from spacy>=2.2.2->en_core_web_sm==2.2.5) (1.0.0)\n",
            "Requirement already satisfied: srsly<1.1.0,>=1.0.2 in /usr/local/lib/python3.7/dist-packages (from spacy>=2.2.2->en_core_web_sm==2.2.5) (1.0.5)\n",
            "Requirement already satisfied: preshed<3.1.0,>=3.0.2 in /usr/local/lib/python3.7/dist-packages (from spacy>=2.2.2->en_core_web_sm==2.2.5) (3.0.6)\n",
            "Requirement already satisfied: importlib-metadata>=0.20 in /usr/local/lib/python3.7/dist-packages (from catalogue<1.1.0,>=0.0.7->spacy>=2.2.2->en_core_web_sm==2.2.5) (4.11.3)\n",
            "Requirement already satisfied: typing-extensions>=3.6.4 in /usr/local/lib/python3.7/dist-packages (from importlib-metadata>=0.20->catalogue<1.1.0,>=0.0.7->spacy>=2.2.2->en_core_web_sm==2.2.5) (4.1.1)\n",
            "Requirement already satisfied: zipp>=0.5 in /usr/local/lib/python3.7/dist-packages (from importlib-metadata>=0.20->catalogue<1.1.0,>=0.0.7->spacy>=2.2.2->en_core_web_sm==2.2.5) (3.8.0)\n",
            "Requirement already satisfied: chardet<4,>=3.0.2 in /usr/local/lib/python3.7/dist-packages (from requests<3.0.0,>=2.13.0->spacy>=2.2.2->en_core_web_sm==2.2.5) (3.0.4)\n",
            "Requirement already satisfied: urllib3!=1.25.0,!=1.25.1,<1.26,>=1.21.1 in /usr/local/lib/python3.7/dist-packages (from requests<3.0.0,>=2.13.0->spacy>=2.2.2->en_core_web_sm==2.2.5) (1.24.3)\n",
            "Requirement already satisfied: certifi>=2017.4.17 in /usr/local/lib/python3.7/dist-packages (from requests<3.0.0,>=2.13.0->spacy>=2.2.2->en_core_web_sm==2.2.5) (2021.10.8)\n",
            "Requirement already satisfied: idna<3,>=2.5 in /usr/local/lib/python3.7/dist-packages (from requests<3.0.0,>=2.13.0->spacy>=2.2.2->en_core_web_sm==2.2.5) (2.10)\n",
            "\u001b[38;5;2m✔ Download and installation successful\u001b[0m\n",
            "You can now load the model via spacy.load('en_core_web_sm')\n"
          ]
        }
      ]
    },
    {
      "cell_type": "code",
      "source": [
        "tokenized_corpus"
      ],
      "metadata": {
        "colab": {
          "base_uri": "https://localhost:8080/"
        },
        "id": "fiH3MhQN_3yw",
        "outputId": "54270a93-8a57-459f-ff9b-adfd2c6791c8"
      },
      "execution_count": 20,
      "outputs": [
        {
          "output_type": "execute_result",
          "data": {
            "text/plain": [
              "[['sky', 'blue', 'beautiful'],\n",
              " ['love', 'blue', 'beautiful', 'sky'],\n",
              " ['quick', 'brown', 'fox', 'jumps', 'lazy', 'dog'],\n",
              " ['king', 'breakfast', 'sausages', 'ham', 'bacon', 'eggs', 'toast', 'beans'],\n",
              " ['love', 'green', 'eggs', 'ham', 'sausages', 'bacon'],\n",
              " ['brown', 'fox', 'quick', 'blue', 'dog', 'lazy'],\n",
              " ['sky', 'blue', 'sky', 'beautiful', 'today'],\n",
              " ['dog', 'lazy', 'brown', 'fox', 'quick']]"
            ]
          },
          "metadata": {},
          "execution_count": 20
        }
      ]
    },
    {
      "cell_type": "code",
      "source": [
        "import spacy \n",
        "nlp = spacy.load('en_core_web_sm')\n",
        "unique_words = list(set([word for sublist in tokenized_corpus for word in sublist]))"
      ],
      "metadata": {
        "id": "x00ifeAi3CAC"
      },
      "execution_count": 15,
      "outputs": []
    },
    {
      "cell_type": "code",
      "source": [
        "unique_words"
      ],
      "metadata": {
        "colab": {
          "base_uri": "https://localhost:8080/"
        },
        "id": "rJqoQ0YI3B9t",
        "outputId": "d46ad531-f2c2-4a60-d43e-f8032cd7dacc"
      },
      "execution_count": 16,
      "outputs": [
        {
          "output_type": "execute_result",
          "data": {
            "text/plain": [
              "['jumps',\n",
              " 'eggs',\n",
              " 'sky',\n",
              " 'king',\n",
              " 'ham',\n",
              " 'dog',\n",
              " 'beans',\n",
              " 'breakfast',\n",
              " 'lazy',\n",
              " 'green',\n",
              " 'sausages',\n",
              " 'fox',\n",
              " 'blue',\n",
              " 'toast',\n",
              " 'today',\n",
              " 'brown',\n",
              " 'beautiful',\n",
              " 'bacon',\n",
              " 'love',\n",
              " 'quick']"
            ]
          },
          "metadata": {},
          "execution_count": 16
        }
      ]
    },
    {
      "cell_type": "code",
      "source": [
        "word_glove_vectors = np.array([nlp(word).vector for word in unique_words])\n",
        "vec_df = pd.DataFrame(word_glove_vectors, index = unique_words)\n",
        "vec_df"
      ],
      "metadata": {
        "colab": {
          "base_uri": "https://localhost:8080/",
          "height": 770
        },
        "id": "EmtycJmf-DN-",
        "outputId": "373cc235-80b2-46fe-fe06-b6c13a0152ed"
      },
      "execution_count": 17,
      "outputs": [
        {
          "output_type": "execute_result",
          "data": {
            "text/plain": [
              "                 0         1         2         3         4         5   \\\n",
              "jumps      1.582098 -3.639481  0.232629  0.684218  3.197534  3.035496   \n",
              "eggs       1.392701 -2.333002  0.117410  0.905006  4.596086  1.232233   \n",
              "sky        0.208949  1.281923 -0.030207 -0.359930  2.630601  1.097632   \n",
              "king       2.117140 -1.180323 -0.963711  0.018119  2.997472  1.034613   \n",
              "ham        2.844792 -1.419769  0.276792 -1.240954  1.855620 -0.895425   \n",
              "dog        3.017089 -1.546828  1.464284 -0.456646  2.416998 -0.828375   \n",
              "beans      0.005686 -1.477961  1.043729 -0.085452  3.058620  3.571394   \n",
              "breakfast  1.934767 -2.406810 -1.004218  0.238505  4.237304  0.697525   \n",
              "lazy       0.064279 -1.280043  2.596476 -0.225422  2.867405  2.795360   \n",
              "green      2.686262 -1.870261  0.710249 -1.964009  3.372515  1.208193   \n",
              "sausages   3.629640 -1.081559  1.025612 -0.077941  4.275403 -2.564051   \n",
              "fox        2.109253 -3.555429  2.021685  0.967538  2.657724  1.616038   \n",
              "blue       2.875191 -1.342902  0.962914  0.763402  2.049454  0.506372   \n",
              "toast      0.180073 -2.190928 -0.030162 -2.355292  3.918541  3.730357   \n",
              "today     -0.606862  4.571043 -0.572298 -0.096002  1.928435  1.402655   \n",
              "brown      1.933918 -2.395745  0.865359 -0.394532  5.523885  0.672123   \n",
              "beautiful  2.515159 -3.657302 -0.605299 -0.972400  1.439389  3.920098   \n",
              "bacon      2.125363 -1.888256  0.892806 -0.524443  1.456277  2.363739   \n",
              "love       0.394584 -2.473139  1.021084 -0.567621  2.410853  4.087090   \n",
              "quick      1.526946 -1.834290  2.423354 -1.680343  2.277392  0.208392   \n",
              "\n",
              "                 6         7         8         9   ...        86        87  \\\n",
              "jumps      3.587500 -1.766943  0.916759  1.005993  ... -1.716197  0.630157   \n",
              "eggs       1.379627  0.334007  2.872356  0.657978  ... -0.984156 -0.110476   \n",
              "sky        1.776505  0.944719  1.803950  5.289375  ... -0.987015  0.516423   \n",
              "king       5.785532  1.235925  1.328111  4.227920  ... -2.355930 -0.373954   \n",
              "ham        0.810951  1.063785  2.321142  2.741672  ...  0.513974 -0.209270   \n",
              "dog        0.773814  0.709981  0.737836  1.974113  ... -0.734291 -0.975200   \n",
              "beans     -0.360675 -0.209976  2.134550  0.257128  ... -0.109150 -0.444256   \n",
              "breakfast  2.340975  1.290567  0.244362  2.870379  ... -2.000233 -0.718270   \n",
              "lazy       3.084235  0.562973  0.863385  0.505700  ...  0.118577 -0.848661   \n",
              "green      2.982640  1.490232 -0.632456  0.063875  ... -2.073977  0.372256   \n",
              "sausages   1.887385 -0.389746  2.218205  0.125398  ... -2.251445 -0.906163   \n",
              "fox        2.611986 -0.217016 -2.005920  1.289994  ... -3.159010 -1.156246   \n",
              "blue       2.709776  0.508257 -1.362761 -1.222398  ... -1.425882 -1.721347   \n",
              "toast      1.921304  0.002309  0.322843  2.245759  ... -0.944632 -1.076090   \n",
              "today      7.686148 -1.199344 -0.408566  2.738744  ...  0.856185  2.163637   \n",
              "brown      1.663792  1.448426 -0.636700 -0.246105  ... -1.389536 -0.179405   \n",
              "beautiful  1.740561  1.716352 -0.127497 -1.640231  ... -0.980150 -0.629282   \n",
              "bacon     -0.071689  0.519661  0.214427  0.580265  ...  1.467656 -1.465843   \n",
              "love       1.183413  0.793504  0.958971  4.147236  ... -0.933204 -1.684244   \n",
              "quick      3.280672 -0.071957 -1.959778 -1.172101  ... -0.418141  1.456830   \n",
              "\n",
              "                 88        89        90        91        92        93  \\\n",
              "jumps     -0.235085 -1.175115 -1.844851  1.658656  2.239774  0.502037   \n",
              "eggs      -0.390287 -1.847488  0.359684 -1.283720  2.385407  2.695145   \n",
              "sky       -1.144101 -2.573901 -0.657242  2.561278 -3.157792  2.699481   \n",
              "king      -1.754481 -2.070184  0.971088  0.837488 -1.145689  6.135808   \n",
              "ham       -0.485579 -4.031846 -1.269553  2.852129 -2.470450  4.498185   \n",
              "dog       -0.308504 -4.152765 -1.967022  1.792300 -1.781012  2.918437   \n",
              "beans     -0.012357 -0.542927  0.196473 -2.065237  1.851303  2.743194   \n",
              "breakfast -0.392292 -2.496491  0.521335  1.681757 -2.777405  2.179339   \n",
              "lazy      -0.409993 -2.819228  1.404842  1.092364  0.229003  3.259993   \n",
              "green     -0.061423 -3.615232  2.663179  0.429166  1.159690  2.187909   \n",
              "sausages  -0.750929 -3.150257  2.211049 -0.000075  0.246338  1.079159   \n",
              "fox       -1.027767 -3.995945 -0.524746  1.746247  1.054308  5.170210   \n",
              "blue      -0.367392 -2.634932  2.537882 -0.114182 -0.348784  3.182020   \n",
              "toast     -1.134238 -0.573836 -1.022409  0.454084 -3.068910  2.937544   \n",
              "today     -1.729793 -1.872262 -0.550488  0.776339 -1.016832  3.510869   \n",
              "brown      1.122065 -0.448651  1.149789 -0.278391 -0.619477  2.217362   \n",
              "beautiful -1.015427 -3.360627  1.551507  1.116293  0.267147  2.541543   \n",
              "bacon     -0.952710 -0.575433  0.309031  0.345181 -1.381731  4.287640   \n",
              "love      -2.347620 -0.689725  1.918263  2.966783 -1.788396  2.724431   \n",
              "quick     -1.566123 -0.308928  1.003863  2.015571 -0.698803  4.940815   \n",
              "\n",
              "                 94        95  \n",
              "jumps     -2.653093  1.894150  \n",
              "eggs      -0.928174 -0.336361  \n",
              "sky       -0.929222 -0.319256  \n",
              "king       0.646641 -1.488308  \n",
              "ham       -0.106911  0.907842  \n",
              "dog        0.626401  0.897481  \n",
              "beans      0.234228  0.884942  \n",
              "breakfast  0.151964 -0.760565  \n",
              "lazy      -0.619183  1.346824  \n",
              "green     -2.369308 -1.006002  \n",
              "sausages  -0.846686 -0.641294  \n",
              "fox        0.503045  1.075724  \n",
              "blue      -0.517462  1.572845  \n",
              "toast      0.025276 -0.907652  \n",
              "today      1.821958 -0.137288  \n",
              "brown     -0.139561  1.257636  \n",
              "beautiful -0.717327  2.090181  \n",
              "bacon      1.503407 -1.000573  \n",
              "love       1.686743 -1.771126  \n",
              "quick      0.683445  1.245274  \n",
              "\n",
              "[20 rows x 96 columns]"
            ],
            "text/html": [
              "\n",
              "  <div id=\"df-115ab039-c964-4af5-80be-ce697d59e2d0\">\n",
              "    <div class=\"colab-df-container\">\n",
              "      <div>\n",
              "<style scoped>\n",
              "    .dataframe tbody tr th:only-of-type {\n",
              "        vertical-align: middle;\n",
              "    }\n",
              "\n",
              "    .dataframe tbody tr th {\n",
              "        vertical-align: top;\n",
              "    }\n",
              "\n",
              "    .dataframe thead th {\n",
              "        text-align: right;\n",
              "    }\n",
              "</style>\n",
              "<table border=\"1\" class=\"dataframe\">\n",
              "  <thead>\n",
              "    <tr style=\"text-align: right;\">\n",
              "      <th></th>\n",
              "      <th>0</th>\n",
              "      <th>1</th>\n",
              "      <th>2</th>\n",
              "      <th>3</th>\n",
              "      <th>4</th>\n",
              "      <th>5</th>\n",
              "      <th>6</th>\n",
              "      <th>7</th>\n",
              "      <th>8</th>\n",
              "      <th>9</th>\n",
              "      <th>...</th>\n",
              "      <th>86</th>\n",
              "      <th>87</th>\n",
              "      <th>88</th>\n",
              "      <th>89</th>\n",
              "      <th>90</th>\n",
              "      <th>91</th>\n",
              "      <th>92</th>\n",
              "      <th>93</th>\n",
              "      <th>94</th>\n",
              "      <th>95</th>\n",
              "    </tr>\n",
              "  </thead>\n",
              "  <tbody>\n",
              "    <tr>\n",
              "      <th>jumps</th>\n",
              "      <td>1.582098</td>\n",
              "      <td>-3.639481</td>\n",
              "      <td>0.232629</td>\n",
              "      <td>0.684218</td>\n",
              "      <td>3.197534</td>\n",
              "      <td>3.035496</td>\n",
              "      <td>3.587500</td>\n",
              "      <td>-1.766943</td>\n",
              "      <td>0.916759</td>\n",
              "      <td>1.005993</td>\n",
              "      <td>...</td>\n",
              "      <td>-1.716197</td>\n",
              "      <td>0.630157</td>\n",
              "      <td>-0.235085</td>\n",
              "      <td>-1.175115</td>\n",
              "      <td>-1.844851</td>\n",
              "      <td>1.658656</td>\n",
              "      <td>2.239774</td>\n",
              "      <td>0.502037</td>\n",
              "      <td>-2.653093</td>\n",
              "      <td>1.894150</td>\n",
              "    </tr>\n",
              "    <tr>\n",
              "      <th>eggs</th>\n",
              "      <td>1.392701</td>\n",
              "      <td>-2.333002</td>\n",
              "      <td>0.117410</td>\n",
              "      <td>0.905006</td>\n",
              "      <td>4.596086</td>\n",
              "      <td>1.232233</td>\n",
              "      <td>1.379627</td>\n",
              "      <td>0.334007</td>\n",
              "      <td>2.872356</td>\n",
              "      <td>0.657978</td>\n",
              "      <td>...</td>\n",
              "      <td>-0.984156</td>\n",
              "      <td>-0.110476</td>\n",
              "      <td>-0.390287</td>\n",
              "      <td>-1.847488</td>\n",
              "      <td>0.359684</td>\n",
              "      <td>-1.283720</td>\n",
              "      <td>2.385407</td>\n",
              "      <td>2.695145</td>\n",
              "      <td>-0.928174</td>\n",
              "      <td>-0.336361</td>\n",
              "    </tr>\n",
              "    <tr>\n",
              "      <th>sky</th>\n",
              "      <td>0.208949</td>\n",
              "      <td>1.281923</td>\n",
              "      <td>-0.030207</td>\n",
              "      <td>-0.359930</td>\n",
              "      <td>2.630601</td>\n",
              "      <td>1.097632</td>\n",
              "      <td>1.776505</td>\n",
              "      <td>0.944719</td>\n",
              "      <td>1.803950</td>\n",
              "      <td>5.289375</td>\n",
              "      <td>...</td>\n",
              "      <td>-0.987015</td>\n",
              "      <td>0.516423</td>\n",
              "      <td>-1.144101</td>\n",
              "      <td>-2.573901</td>\n",
              "      <td>-0.657242</td>\n",
              "      <td>2.561278</td>\n",
              "      <td>-3.157792</td>\n",
              "      <td>2.699481</td>\n",
              "      <td>-0.929222</td>\n",
              "      <td>-0.319256</td>\n",
              "    </tr>\n",
              "    <tr>\n",
              "      <th>king</th>\n",
              "      <td>2.117140</td>\n",
              "      <td>-1.180323</td>\n",
              "      <td>-0.963711</td>\n",
              "      <td>0.018119</td>\n",
              "      <td>2.997472</td>\n",
              "      <td>1.034613</td>\n",
              "      <td>5.785532</td>\n",
              "      <td>1.235925</td>\n",
              "      <td>1.328111</td>\n",
              "      <td>4.227920</td>\n",
              "      <td>...</td>\n",
              "      <td>-2.355930</td>\n",
              "      <td>-0.373954</td>\n",
              "      <td>-1.754481</td>\n",
              "      <td>-2.070184</td>\n",
              "      <td>0.971088</td>\n",
              "      <td>0.837488</td>\n",
              "      <td>-1.145689</td>\n",
              "      <td>6.135808</td>\n",
              "      <td>0.646641</td>\n",
              "      <td>-1.488308</td>\n",
              "    </tr>\n",
              "    <tr>\n",
              "      <th>ham</th>\n",
              "      <td>2.844792</td>\n",
              "      <td>-1.419769</td>\n",
              "      <td>0.276792</td>\n",
              "      <td>-1.240954</td>\n",
              "      <td>1.855620</td>\n",
              "      <td>-0.895425</td>\n",
              "      <td>0.810951</td>\n",
              "      <td>1.063785</td>\n",
              "      <td>2.321142</td>\n",
              "      <td>2.741672</td>\n",
              "      <td>...</td>\n",
              "      <td>0.513974</td>\n",
              "      <td>-0.209270</td>\n",
              "      <td>-0.485579</td>\n",
              "      <td>-4.031846</td>\n",
              "      <td>-1.269553</td>\n",
              "      <td>2.852129</td>\n",
              "      <td>-2.470450</td>\n",
              "      <td>4.498185</td>\n",
              "      <td>-0.106911</td>\n",
              "      <td>0.907842</td>\n",
              "    </tr>\n",
              "    <tr>\n",
              "      <th>dog</th>\n",
              "      <td>3.017089</td>\n",
              "      <td>-1.546828</td>\n",
              "      <td>1.464284</td>\n",
              "      <td>-0.456646</td>\n",
              "      <td>2.416998</td>\n",
              "      <td>-0.828375</td>\n",
              "      <td>0.773814</td>\n",
              "      <td>0.709981</td>\n",
              "      <td>0.737836</td>\n",
              "      <td>1.974113</td>\n",
              "      <td>...</td>\n",
              "      <td>-0.734291</td>\n",
              "      <td>-0.975200</td>\n",
              "      <td>-0.308504</td>\n",
              "      <td>-4.152765</td>\n",
              "      <td>-1.967022</td>\n",
              "      <td>1.792300</td>\n",
              "      <td>-1.781012</td>\n",
              "      <td>2.918437</td>\n",
              "      <td>0.626401</td>\n",
              "      <td>0.897481</td>\n",
              "    </tr>\n",
              "    <tr>\n",
              "      <th>beans</th>\n",
              "      <td>0.005686</td>\n",
              "      <td>-1.477961</td>\n",
              "      <td>1.043729</td>\n",
              "      <td>-0.085452</td>\n",
              "      <td>3.058620</td>\n",
              "      <td>3.571394</td>\n",
              "      <td>-0.360675</td>\n",
              "      <td>-0.209976</td>\n",
              "      <td>2.134550</td>\n",
              "      <td>0.257128</td>\n",
              "      <td>...</td>\n",
              "      <td>-0.109150</td>\n",
              "      <td>-0.444256</td>\n",
              "      <td>-0.012357</td>\n",
              "      <td>-0.542927</td>\n",
              "      <td>0.196473</td>\n",
              "      <td>-2.065237</td>\n",
              "      <td>1.851303</td>\n",
              "      <td>2.743194</td>\n",
              "      <td>0.234228</td>\n",
              "      <td>0.884942</td>\n",
              "    </tr>\n",
              "    <tr>\n",
              "      <th>breakfast</th>\n",
              "      <td>1.934767</td>\n",
              "      <td>-2.406810</td>\n",
              "      <td>-1.004218</td>\n",
              "      <td>0.238505</td>\n",
              "      <td>4.237304</td>\n",
              "      <td>0.697525</td>\n",
              "      <td>2.340975</td>\n",
              "      <td>1.290567</td>\n",
              "      <td>0.244362</td>\n",
              "      <td>2.870379</td>\n",
              "      <td>...</td>\n",
              "      <td>-2.000233</td>\n",
              "      <td>-0.718270</td>\n",
              "      <td>-0.392292</td>\n",
              "      <td>-2.496491</td>\n",
              "      <td>0.521335</td>\n",
              "      <td>1.681757</td>\n",
              "      <td>-2.777405</td>\n",
              "      <td>2.179339</td>\n",
              "      <td>0.151964</td>\n",
              "      <td>-0.760565</td>\n",
              "    </tr>\n",
              "    <tr>\n",
              "      <th>lazy</th>\n",
              "      <td>0.064279</td>\n",
              "      <td>-1.280043</td>\n",
              "      <td>2.596476</td>\n",
              "      <td>-0.225422</td>\n",
              "      <td>2.867405</td>\n",
              "      <td>2.795360</td>\n",
              "      <td>3.084235</td>\n",
              "      <td>0.562973</td>\n",
              "      <td>0.863385</td>\n",
              "      <td>0.505700</td>\n",
              "      <td>...</td>\n",
              "      <td>0.118577</td>\n",
              "      <td>-0.848661</td>\n",
              "      <td>-0.409993</td>\n",
              "      <td>-2.819228</td>\n",
              "      <td>1.404842</td>\n",
              "      <td>1.092364</td>\n",
              "      <td>0.229003</td>\n",
              "      <td>3.259993</td>\n",
              "      <td>-0.619183</td>\n",
              "      <td>1.346824</td>\n",
              "    </tr>\n",
              "    <tr>\n",
              "      <th>green</th>\n",
              "      <td>2.686262</td>\n",
              "      <td>-1.870261</td>\n",
              "      <td>0.710249</td>\n",
              "      <td>-1.964009</td>\n",
              "      <td>3.372515</td>\n",
              "      <td>1.208193</td>\n",
              "      <td>2.982640</td>\n",
              "      <td>1.490232</td>\n",
              "      <td>-0.632456</td>\n",
              "      <td>0.063875</td>\n",
              "      <td>...</td>\n",
              "      <td>-2.073977</td>\n",
              "      <td>0.372256</td>\n",
              "      <td>-0.061423</td>\n",
              "      <td>-3.615232</td>\n",
              "      <td>2.663179</td>\n",
              "      <td>0.429166</td>\n",
              "      <td>1.159690</td>\n",
              "      <td>2.187909</td>\n",
              "      <td>-2.369308</td>\n",
              "      <td>-1.006002</td>\n",
              "    </tr>\n",
              "    <tr>\n",
              "      <th>sausages</th>\n",
              "      <td>3.629640</td>\n",
              "      <td>-1.081559</td>\n",
              "      <td>1.025612</td>\n",
              "      <td>-0.077941</td>\n",
              "      <td>4.275403</td>\n",
              "      <td>-2.564051</td>\n",
              "      <td>1.887385</td>\n",
              "      <td>-0.389746</td>\n",
              "      <td>2.218205</td>\n",
              "      <td>0.125398</td>\n",
              "      <td>...</td>\n",
              "      <td>-2.251445</td>\n",
              "      <td>-0.906163</td>\n",
              "      <td>-0.750929</td>\n",
              "      <td>-3.150257</td>\n",
              "      <td>2.211049</td>\n",
              "      <td>-0.000075</td>\n",
              "      <td>0.246338</td>\n",
              "      <td>1.079159</td>\n",
              "      <td>-0.846686</td>\n",
              "      <td>-0.641294</td>\n",
              "    </tr>\n",
              "    <tr>\n",
              "      <th>fox</th>\n",
              "      <td>2.109253</td>\n",
              "      <td>-3.555429</td>\n",
              "      <td>2.021685</td>\n",
              "      <td>0.967538</td>\n",
              "      <td>2.657724</td>\n",
              "      <td>1.616038</td>\n",
              "      <td>2.611986</td>\n",
              "      <td>-0.217016</td>\n",
              "      <td>-2.005920</td>\n",
              "      <td>1.289994</td>\n",
              "      <td>...</td>\n",
              "      <td>-3.159010</td>\n",
              "      <td>-1.156246</td>\n",
              "      <td>-1.027767</td>\n",
              "      <td>-3.995945</td>\n",
              "      <td>-0.524746</td>\n",
              "      <td>1.746247</td>\n",
              "      <td>1.054308</td>\n",
              "      <td>5.170210</td>\n",
              "      <td>0.503045</td>\n",
              "      <td>1.075724</td>\n",
              "    </tr>\n",
              "    <tr>\n",
              "      <th>blue</th>\n",
              "      <td>2.875191</td>\n",
              "      <td>-1.342902</td>\n",
              "      <td>0.962914</td>\n",
              "      <td>0.763402</td>\n",
              "      <td>2.049454</td>\n",
              "      <td>0.506372</td>\n",
              "      <td>2.709776</td>\n",
              "      <td>0.508257</td>\n",
              "      <td>-1.362761</td>\n",
              "      <td>-1.222398</td>\n",
              "      <td>...</td>\n",
              "      <td>-1.425882</td>\n",
              "      <td>-1.721347</td>\n",
              "      <td>-0.367392</td>\n",
              "      <td>-2.634932</td>\n",
              "      <td>2.537882</td>\n",
              "      <td>-0.114182</td>\n",
              "      <td>-0.348784</td>\n",
              "      <td>3.182020</td>\n",
              "      <td>-0.517462</td>\n",
              "      <td>1.572845</td>\n",
              "    </tr>\n",
              "    <tr>\n",
              "      <th>toast</th>\n",
              "      <td>0.180073</td>\n",
              "      <td>-2.190928</td>\n",
              "      <td>-0.030162</td>\n",
              "      <td>-2.355292</td>\n",
              "      <td>3.918541</td>\n",
              "      <td>3.730357</td>\n",
              "      <td>1.921304</td>\n",
              "      <td>0.002309</td>\n",
              "      <td>0.322843</td>\n",
              "      <td>2.245759</td>\n",
              "      <td>...</td>\n",
              "      <td>-0.944632</td>\n",
              "      <td>-1.076090</td>\n",
              "      <td>-1.134238</td>\n",
              "      <td>-0.573836</td>\n",
              "      <td>-1.022409</td>\n",
              "      <td>0.454084</td>\n",
              "      <td>-3.068910</td>\n",
              "      <td>2.937544</td>\n",
              "      <td>0.025276</td>\n",
              "      <td>-0.907652</td>\n",
              "    </tr>\n",
              "    <tr>\n",
              "      <th>today</th>\n",
              "      <td>-0.606862</td>\n",
              "      <td>4.571043</td>\n",
              "      <td>-0.572298</td>\n",
              "      <td>-0.096002</td>\n",
              "      <td>1.928435</td>\n",
              "      <td>1.402655</td>\n",
              "      <td>7.686148</td>\n",
              "      <td>-1.199344</td>\n",
              "      <td>-0.408566</td>\n",
              "      <td>2.738744</td>\n",
              "      <td>...</td>\n",
              "      <td>0.856185</td>\n",
              "      <td>2.163637</td>\n",
              "      <td>-1.729793</td>\n",
              "      <td>-1.872262</td>\n",
              "      <td>-0.550488</td>\n",
              "      <td>0.776339</td>\n",
              "      <td>-1.016832</td>\n",
              "      <td>3.510869</td>\n",
              "      <td>1.821958</td>\n",
              "      <td>-0.137288</td>\n",
              "    </tr>\n",
              "    <tr>\n",
              "      <th>brown</th>\n",
              "      <td>1.933918</td>\n",
              "      <td>-2.395745</td>\n",
              "      <td>0.865359</td>\n",
              "      <td>-0.394532</td>\n",
              "      <td>5.523885</td>\n",
              "      <td>0.672123</td>\n",
              "      <td>1.663792</td>\n",
              "      <td>1.448426</td>\n",
              "      <td>-0.636700</td>\n",
              "      <td>-0.246105</td>\n",
              "      <td>...</td>\n",
              "      <td>-1.389536</td>\n",
              "      <td>-0.179405</td>\n",
              "      <td>1.122065</td>\n",
              "      <td>-0.448651</td>\n",
              "      <td>1.149789</td>\n",
              "      <td>-0.278391</td>\n",
              "      <td>-0.619477</td>\n",
              "      <td>2.217362</td>\n",
              "      <td>-0.139561</td>\n",
              "      <td>1.257636</td>\n",
              "    </tr>\n",
              "    <tr>\n",
              "      <th>beautiful</th>\n",
              "      <td>2.515159</td>\n",
              "      <td>-3.657302</td>\n",
              "      <td>-0.605299</td>\n",
              "      <td>-0.972400</td>\n",
              "      <td>1.439389</td>\n",
              "      <td>3.920098</td>\n",
              "      <td>1.740561</td>\n",
              "      <td>1.716352</td>\n",
              "      <td>-0.127497</td>\n",
              "      <td>-1.640231</td>\n",
              "      <td>...</td>\n",
              "      <td>-0.980150</td>\n",
              "      <td>-0.629282</td>\n",
              "      <td>-1.015427</td>\n",
              "      <td>-3.360627</td>\n",
              "      <td>1.551507</td>\n",
              "      <td>1.116293</td>\n",
              "      <td>0.267147</td>\n",
              "      <td>2.541543</td>\n",
              "      <td>-0.717327</td>\n",
              "      <td>2.090181</td>\n",
              "    </tr>\n",
              "    <tr>\n",
              "      <th>bacon</th>\n",
              "      <td>2.125363</td>\n",
              "      <td>-1.888256</td>\n",
              "      <td>0.892806</td>\n",
              "      <td>-0.524443</td>\n",
              "      <td>1.456277</td>\n",
              "      <td>2.363739</td>\n",
              "      <td>-0.071689</td>\n",
              "      <td>0.519661</td>\n",
              "      <td>0.214427</td>\n",
              "      <td>0.580265</td>\n",
              "      <td>...</td>\n",
              "      <td>1.467656</td>\n",
              "      <td>-1.465843</td>\n",
              "      <td>-0.952710</td>\n",
              "      <td>-0.575433</td>\n",
              "      <td>0.309031</td>\n",
              "      <td>0.345181</td>\n",
              "      <td>-1.381731</td>\n",
              "      <td>4.287640</td>\n",
              "      <td>1.503407</td>\n",
              "      <td>-1.000573</td>\n",
              "    </tr>\n",
              "    <tr>\n",
              "      <th>love</th>\n",
              "      <td>0.394584</td>\n",
              "      <td>-2.473139</td>\n",
              "      <td>1.021084</td>\n",
              "      <td>-0.567621</td>\n",
              "      <td>2.410853</td>\n",
              "      <td>4.087090</td>\n",
              "      <td>1.183413</td>\n",
              "      <td>0.793504</td>\n",
              "      <td>0.958971</td>\n",
              "      <td>4.147236</td>\n",
              "      <td>...</td>\n",
              "      <td>-0.933204</td>\n",
              "      <td>-1.684244</td>\n",
              "      <td>-2.347620</td>\n",
              "      <td>-0.689725</td>\n",
              "      <td>1.918263</td>\n",
              "      <td>2.966783</td>\n",
              "      <td>-1.788396</td>\n",
              "      <td>2.724431</td>\n",
              "      <td>1.686743</td>\n",
              "      <td>-1.771126</td>\n",
              "    </tr>\n",
              "    <tr>\n",
              "      <th>quick</th>\n",
              "      <td>1.526946</td>\n",
              "      <td>-1.834290</td>\n",
              "      <td>2.423354</td>\n",
              "      <td>-1.680343</td>\n",
              "      <td>2.277392</td>\n",
              "      <td>0.208392</td>\n",
              "      <td>3.280672</td>\n",
              "      <td>-0.071957</td>\n",
              "      <td>-1.959778</td>\n",
              "      <td>-1.172101</td>\n",
              "      <td>...</td>\n",
              "      <td>-0.418141</td>\n",
              "      <td>1.456830</td>\n",
              "      <td>-1.566123</td>\n",
              "      <td>-0.308928</td>\n",
              "      <td>1.003863</td>\n",
              "      <td>2.015571</td>\n",
              "      <td>-0.698803</td>\n",
              "      <td>4.940815</td>\n",
              "      <td>0.683445</td>\n",
              "      <td>1.245274</td>\n",
              "    </tr>\n",
              "  </tbody>\n",
              "</table>\n",
              "<p>20 rows × 96 columns</p>\n",
              "</div>\n",
              "      <button class=\"colab-df-convert\" onclick=\"convertToInteractive('df-115ab039-c964-4af5-80be-ce697d59e2d0')\"\n",
              "              title=\"Convert this dataframe to an interactive table.\"\n",
              "              style=\"display:none;\">\n",
              "        \n",
              "  <svg xmlns=\"http://www.w3.org/2000/svg\" height=\"24px\"viewBox=\"0 0 24 24\"\n",
              "       width=\"24px\">\n",
              "    <path d=\"M0 0h24v24H0V0z\" fill=\"none\"/>\n",
              "    <path d=\"M18.56 5.44l.94 2.06.94-2.06 2.06-.94-2.06-.94-.94-2.06-.94 2.06-2.06.94zm-11 1L8.5 8.5l.94-2.06 2.06-.94-2.06-.94L8.5 2.5l-.94 2.06-2.06.94zm10 10l.94 2.06.94-2.06 2.06-.94-2.06-.94-.94-2.06-.94 2.06-2.06.94z\"/><path d=\"M17.41 7.96l-1.37-1.37c-.4-.4-.92-.59-1.43-.59-.52 0-1.04.2-1.43.59L10.3 9.45l-7.72 7.72c-.78.78-.78 2.05 0 2.83L4 21.41c.39.39.9.59 1.41.59.51 0 1.02-.2 1.41-.59l7.78-7.78 2.81-2.81c.8-.78.8-2.07 0-2.86zM5.41 20L4 18.59l7.72-7.72 1.47 1.35L5.41 20z\"/>\n",
              "  </svg>\n",
              "      </button>\n",
              "      \n",
              "  <style>\n",
              "    .colab-df-container {\n",
              "      display:flex;\n",
              "      flex-wrap:wrap;\n",
              "      gap: 12px;\n",
              "    }\n",
              "\n",
              "    .colab-df-convert {\n",
              "      background-color: #E8F0FE;\n",
              "      border: none;\n",
              "      border-radius: 50%;\n",
              "      cursor: pointer;\n",
              "      display: none;\n",
              "      fill: #1967D2;\n",
              "      height: 32px;\n",
              "      padding: 0 0 0 0;\n",
              "      width: 32px;\n",
              "    }\n",
              "\n",
              "    .colab-df-convert:hover {\n",
              "      background-color: #E2EBFA;\n",
              "      box-shadow: 0px 1px 2px rgba(60, 64, 67, 0.3), 0px 1px 3px 1px rgba(60, 64, 67, 0.15);\n",
              "      fill: #174EA6;\n",
              "    }\n",
              "\n",
              "    [theme=dark] .colab-df-convert {\n",
              "      background-color: #3B4455;\n",
              "      fill: #D2E3FC;\n",
              "    }\n",
              "\n",
              "    [theme=dark] .colab-df-convert:hover {\n",
              "      background-color: #434B5C;\n",
              "      box-shadow: 0px 1px 3px 1px rgba(0, 0, 0, 0.15);\n",
              "      filter: drop-shadow(0px 1px 2px rgba(0, 0, 0, 0.3));\n",
              "      fill: #FFFFFF;\n",
              "    }\n",
              "  </style>\n",
              "\n",
              "      <script>\n",
              "        const buttonEl =\n",
              "          document.querySelector('#df-115ab039-c964-4af5-80be-ce697d59e2d0 button.colab-df-convert');\n",
              "        buttonEl.style.display =\n",
              "          google.colab.kernel.accessAllowed ? 'block' : 'none';\n",
              "\n",
              "        async function convertToInteractive(key) {\n",
              "          const element = document.querySelector('#df-115ab039-c964-4af5-80be-ce697d59e2d0');\n",
              "          const dataTable =\n",
              "            await google.colab.kernel.invokeFunction('convertToInteractive',\n",
              "                                                     [key], {});\n",
              "          if (!dataTable) return;\n",
              "\n",
              "          const docLinkHtml = 'Like what you see? Visit the ' +\n",
              "            '<a target=\"_blank\" href=https://colab.research.google.com/notebooks/data_table.ipynb>data table notebook</a>'\n",
              "            + ' to learn more about interactive tables.';\n",
              "          element.innerHTML = '';\n",
              "          dataTable['output_type'] = 'display_data';\n",
              "          await google.colab.output.renderOutput(dataTable, element);\n",
              "          const docLink = document.createElement('div');\n",
              "          docLink.innerHTML = docLinkHtml;\n",
              "          element.appendChild(docLink);\n",
              "        }\n",
              "      </script>\n",
              "    </div>\n",
              "  </div>\n",
              "  "
            ]
          },
          "metadata": {},
          "execution_count": 17
        }
      ]
    },
    {
      "cell_type": "code",
      "source": [
        "tsne = TSNE(n_components = 2,n_iter = 5000, random_state = 42, perplexity=5)\n",
        "np.set_printoptions(suppress = True)\n",
        "T = tsne.fit_transform(word_glove_vectors)\n",
        "labels = unique_words\n",
        "\n",
        "plt.figure(figsize = (12,6))\n",
        "plt.scatter(T[:,0],T[:,1], c= 'orange',edgecolors = 'r')\n",
        "for label,x,y in zip(labels, T[:,0],T[:,1]):\n",
        "  plt.annotate(label, xy=(x+1,y+1), xytext = (0,0), textcoords = 'offset points')"
      ],
      "metadata": {
        "colab": {
          "base_uri": "https://localhost:8080/",
          "height": 465
        },
        "id": "gh_qp-cU-h8-",
        "outputId": "dfbf3a2a-6906-4c31-952c-4c2224e5fc6c"
      },
      "execution_count": 19,
      "outputs": [
        {
          "output_type": "stream",
          "name": "stderr",
          "text": [
            "/usr/local/lib/python3.7/dist-packages/sklearn/manifold/_t_sne.py:783: FutureWarning: The default initialization in TSNE will change from 'random' to 'pca' in 1.2.\n",
            "  FutureWarning,\n",
            "/usr/local/lib/python3.7/dist-packages/sklearn/manifold/_t_sne.py:793: FutureWarning: The default learning rate in TSNE will change from 200.0 to 'auto' in 1.2.\n",
            "  FutureWarning,\n"
          ]
        },
        {
          "output_type": "display_data",
          "data": {
            "text/plain": [
              "<Figure size 864x432 with 1 Axes>"
            ],
            "image/png": "[encoded data removed]"
          },
          "metadata": {
            "needs_background": "light"
          }
        }
      ]
    },
    {
      "cell_type": "code",
      "source": [
        "#FastTEXT - 2016 - Facebook "
      ],
      "metadata": {
        "id": "9QGsJHeU-h6H"
      },
      "execution_count": null,
      "outputs": []
    },
    {
      "cell_type": "code",
      "source": [
        "from gensim.models import FastText\n",
        "\n",
        "tokenized_corpus = [nltk.word_tokenize(doc) for doc in norm_data]\n",
        "\n",
        "#!!!!!!!!!!\n",
        "#Skip-Gram: tries to predict the context via estimating the neighbours - Understands the neighbours or predicts the neighbours\n",
        "#CBOW - Straighforward word - prediction based on neighbours  \n",
        "\n",
        "\n",
        "#Setting values of params very important!!!\n",
        "feature_size = 30 #word Vector dimensionality \n",
        "window_size = 20 #context window size\n",
        "min_word_count= 1 #This a way to remove infrequent words\n",
        "sg = 1 #1-CBOW\n",
        "\n",
        "\n",
        "ft_model = FastText(tokenized_corpus, size= feature_size, window = window_size,min_count = min_word_count, sg = sg)\n",
        "ft_model"
      ],
      "metadata": {
        "colab": {
          "base_uri": "https://localhost:8080/"
        },
        "id": "-3f6m6Yn-h29",
        "outputId": "7ed51256-e5ec-4669-ca86-13e6072c6434"
      },
      "execution_count": 21,
      "outputs": [
        {
          "output_type": "execute_result",
          "data": {
            "text/plain": [
              "<gensim.models.fasttext.FastText at 0x7f721432d1d0>"
            ]
          },
          "metadata": {},
          "execution_count": 21
        }
      ]
    },
    {
      "cell_type": "code",
      "source": [
        "import matplotlib.pyplot as plt\n",
        "%matplotlib inline\n",
        "\n",
        "#Visualize the Embeddings\n",
        "from sklearn.manifold import TSNE"
      ],
      "metadata": {
        "id": "B_TAadsRBJy2"
      },
      "execution_count": 22,
      "outputs": []
    },
    {
      "cell_type": "code",
      "source": [
        "words = ft_model.wv.index2word\n",
        "wvs = ft_model.wv[words]\n",
        "\n",
        "tsne = TSNE(n_components = 2,n_iter = 5000, random_state = 42, perplexity=5)\n",
        "np.set_printoptions(suppress = True)\n",
        "T = tsne.fit_transform(wvs)\n",
        "labels = words"
      ],
      "metadata": {
        "colab": {
          "base_uri": "https://localhost:8080/"
        },
        "outputId": "781ee59c-78a9-43b0-ac31-b2b73937a5cc",
        "id": "tjV1oyMRBJy2"
      },
      "execution_count": 23,
      "outputs": [
        {
          "output_type": "stream",
          "name": "stderr",
          "text": [
            "/usr/local/lib/python3.7/dist-packages/sklearn/manifold/_t_sne.py:783: FutureWarning: The default initialization in TSNE will change from 'random' to 'pca' in 1.2.\n",
            "  FutureWarning,\n",
            "/usr/local/lib/python3.7/dist-packages/sklearn/manifold/_t_sne.py:793: FutureWarning: The default learning rate in TSNE will change from 200.0 to 'auto' in 1.2.\n",
            "  FutureWarning,\n"
          ]
        }
      ]
    },
    {
      "cell_type": "code",
      "source": [
        "plt.figure(figsize = (12,6))\n",
        "plt.scatter(T[:,0],T[:,1], c= 'orange',edgecolors = 'r')\n",
        "for label,x,y in zip(labels, T[:,0],T[:,1]):\n",
        "  plt.annotate(label, xy=(x+1,y+1), xytext = (0,0), textcoords = 'offset points')"
      ],
      "metadata": {
        "colab": {
          "base_uri": "https://localhost:8080/",
          "height": 374
        },
        "id": "RWWsRAfGBJy3",
        "outputId": "a0b419c8-542b-4859-d352-ef3d94af78e0"
      },
      "execution_count": 24,
      "outputs": [
        {
          "output_type": "display_data",
          "data": {
            "text/plain": [
              "<Figure size 864x432 with 1 Axes>"
            ],
            "image/png": "[encoded data removed]"
          },
          "metadata": {
            "needs_background": "light"
          }
        }
      ]
    },
    {
      "cell_type": "code",
      "source": [
        "!wget http://nlp.stanford.edu/data/glove.6B.zip"
      ],
      "metadata": {
        "colab": {
          "base_uri": "https://localhost:8080/"
        },
        "id": "4sY2paD3CzJ7",
        "outputId": "3003cd79-c99c-4031-95a7-b79289b9ef48"
      },
      "execution_count": 30,
      "outputs": [
        {
          "output_type": "stream",
          "name": "stdout",
          "text": [
            "--2022-04-24 05:28:48--  http://nlp.stanford.edu/data/glove.6B.zip\n",
            "Resolving nlp.stanford.edu (nlp.stanford.edu)... 171.64.67.140\n",
            "Connecting to nlp.stanford.edu (nlp.stanford.edu)|171.64.67.140|:80... connected.\n",
            "HTTP request sent, awaiting response... 302 Found\n",
            "Location: https://nlp.stanford.edu/data/glove.6B.zip [following]\n",
            "--2022-04-24 05:28:48--  https://nlp.stanford.edu/data/glove.6B.zip\n",
            "Connecting to nlp.stanford.edu (nlp.stanford.edu)|171.64.67.140|:443... connected.\n",
            "HTTP request sent, awaiting response... 301 Moved Permanently\n",
            "Location: http://downloads.cs.stanford.edu/nlp/data/glove.6B.zip [following]\n",
            "--2022-04-24 05:28:48--  http://downloads.cs.stanford.edu/nlp/data/glove.6B.zip\n",
            "Resolving downloads.cs.stanford.edu (downloads.cs.stanford.edu)... 171.64.64.22\n",
            "Connecting to downloads.cs.stanford.edu (downloads.cs.stanford.edu)|171.64.64.22|:80... connected.\n",
            "HTTP request sent, awaiting response... 200 OK\n",
            "Length: 862182613 (822M) [application/zip]\n",
            "Saving to: ‘glove.6B.zip’\n",
            "\n",
            "glove.6B.zip        100%[===================>] 822.24M  5.09MB/s    in 2m 40s  \n",
            "\n",
            "2022-04-24 05:31:29 (5.13 MB/s) - ‘glove.6B.zip’ saved [862182613/862182613]\n",
            "\n"
          ]
        }
      ]
    },
    {
      "cell_type": "code",
      "source": [
        "!unzip glove*.zip"
      ],
      "metadata": {
        "colab": {
          "base_uri": "https://localhost:8080/"
        },
        "id": "-WESEqPHC2hz",
        "outputId": "4a17a024-72f7-4a70-b171-eacac8d4dbc9"
      },
      "execution_count": 34,
      "outputs": [
        {
          "output_type": "stream",
          "name": "stdout",
          "text": [
            "Archive:  glove.6B.zip\n",
            "  inflating: glove.6B.50d.txt        \n",
            "  inflating: glove.6B.100d.txt       \n",
            "  inflating: glove.6B.200d.txt       \n",
            "  inflating: glove.6B.300d.txt       \n"
          ]
        }
      ]
    },
    {
      "cell_type": "code",
      "source": [
        "import tensorflow as tf\n",
        "from keras.preprocessing.text import one_hot, Tokenizer\n",
        "from keras.preprocessing.sequence import pad_sequences\n",
        "from keras.models import Sequential \n",
        "from keras.layers import Dense, Flatten\n",
        "from keras.layers.embeddings import Embedding"
      ],
      "metadata": {
        "id": "RnE4gidABOhU"
      },
      "execution_count": 38,
      "outputs": []
    },
    {
      "cell_type": "code",
      "source": [
        "doc = ['Good Job!',\"Excellent Efforts\",'Well Done!','nice work','Perfect!',\n",
        "       'Bad!','Poor','Weak!','Very disappointed','Unsatisfactory']"
      ],
      "metadata": {
        "id": "jPsTQTCJCbhP"
      },
      "execution_count": 31,
      "outputs": []
    },
    {
      "cell_type": "markdown",
      "source": [
        ""
      ],
      "metadata": {
        "id": "IKd9p_JFCOLN"
      }
    },
    {
      "cell_type": "code",
      "source": [
        "labels = np.array([1,1,1,1,1,0,0,0,0,0])"
      ],
      "metadata": {
        "id": "RwO9iRQABzkb"
      },
      "execution_count": 33,
      "outputs": []
    },
    {
      "cell_type": "code",
      "source": [
        "t = Tokenizer()"
      ],
      "metadata": {
        "id": "17_llgMzBzih"
      },
      "execution_count": 39,
      "outputs": []
    },
    {
      "cell_type": "code",
      "source": [
        "t.fit_on_texts(doc)"
      ],
      "metadata": {
        "id": "-M6puKv2Bzf6"
      },
      "execution_count": 42,
      "outputs": []
    },
    {
      "cell_type": "code",
      "source": [
        "vocab_size = len(t.word_index)+1"
      ],
      "metadata": {
        "id": "lj3ca3DyDs6x"
      },
      "execution_count": 43,
      "outputs": []
    },
    {
      "cell_type": "code",
      "source": [
        "vocab_size"
      ],
      "metadata": {
        "colab": {
          "base_uri": "https://localhost:8080/"
        },
        "id": "Zugbm4mcDs3r",
        "outputId": "ffb8e1fc-eeb4-4996-a6c1-70be6f27782d"
      },
      "execution_count": 44,
      "outputs": [
        {
          "output_type": "execute_result",
          "data": {
            "text/plain": [
              "16"
            ]
          },
          "metadata": {},
          "execution_count": 44
        }
      ]
    },
    {
      "cell_type": "code",
      "source": [
        "encoded = t.texts_to_sequences(doc)"
      ],
      "metadata": {
        "id": "7upPral5Ds1T"
      },
      "execution_count": 45,
      "outputs": []
    },
    {
      "cell_type": "code",
      "source": [
        "encoded"
      ],
      "metadata": {
        "colab": {
          "base_uri": "https://localhost:8080/"
        },
        "id": "phoO95pWDsyb",
        "outputId": "95973281-1523-4b37-97cf-7dabf8652538"
      },
      "execution_count": 46,
      "outputs": [
        {
          "output_type": "execute_result",
          "data": {
            "text/plain": [
              "[[1, 2], [3, 4], [5, 6], [7, 8], [9], [10], [11], [12], [13, 14], [15]]"
            ]
          },
          "metadata": {},
          "execution_count": 46
        }
      ]
    },
    {
      "cell_type": "code",
      "source": [
        "max_length = 2\n",
        "padded_documents = pad_sequences(encoded,maxlen = max_length, padding = 'post')"
      ],
      "metadata": {
        "id": "5fGreVmlDsv0"
      },
      "execution_count": 47,
      "outputs": []
    },
    {
      "cell_type": "code",
      "source": [
        "padded_documents"
      ],
      "metadata": {
        "colab": {
          "base_uri": "https://localhost:8080/"
        },
        "id": "5LUV3qpgEDKN",
        "outputId": "681886be-a04e-405a-eaaa-9b04b17fc0fa"
      },
      "execution_count": 48,
      "outputs": [
        {
          "output_type": "execute_result",
          "data": {
            "text/plain": [
              "array([[ 1,  2],\n",
              "       [ 3,  4],\n",
              "       [ 5,  6],\n",
              "       [ 7,  8],\n",
              "       [ 9,  0],\n",
              "       [10,  0],\n",
              "       [11,  0],\n",
              "       [12,  0],\n",
              "       [13, 14],\n",
              "       [15,  0]], dtype=int32)"
            ]
          },
          "metadata": {},
          "execution_count": 48
        }
      ]
    },
    {
      "cell_type": "code",
      "source": [
        "f = open(\"glove.6B.100d.txt\")\n",
        "embeddings_index = dict()\n",
        "for line in f: \n",
        "  values = line.split()\n",
        "  word = values[0]\n",
        "  coefs = np.asarray(values[1:], dtype = 'float32')\n",
        "  embeddings_index[word] = coefs\n",
        "f.close()"
      ],
      "metadata": {
        "id": "rS1mHfDVEDH3"
      },
      "execution_count": 52,
      "outputs": []
    },
    {
      "cell_type": "code",
      "source": [
        "embedding_matrix = np.zeros((vocab_size,100))"
      ],
      "metadata": {
        "id": "YpLeoDgxEV9Z"
      },
      "execution_count": 57,
      "outputs": []
    },
    {
      "cell_type": "code",
      "source": [
        "for word, i in t.word_index.items():\n",
        "  embedding_vector = embeddings_index.get(word)\n",
        "  if embedding_vector is not None: \n",
        "    embedding_matrix[i]= embedding_vector"
      ],
      "metadata": {
        "id": "T-2yq9tkEV6u"
      },
      "execution_count": 60,
      "outputs": []
    },
    {
      "cell_type": "code",
      "source": [
        "model = Sequential()\n",
        "e = Embedding(vocab_size,100,weights = [embedding_matrix], input_length=2,trainable = False)\n",
        "model.add(e)\n",
        "model.add(Flatten())\n",
        "model.add(Dense(1,activation = 'sigmoid'))"
      ],
      "metadata": {
        "id": "H2wVLyTzEV3u"
      },
      "execution_count": 68,
      "outputs": []
    },
    {
      "cell_type": "code",
      "source": [
        "model.compile(optimizer = 'adam',loss = 'binary_crossentropy',metrics = ['accuracy'])"
      ],
      "metadata": {
        "id": "he_uZnwUEV0e"
      },
      "execution_count": 69,
      "outputs": []
    },
    {
      "cell_type": "code",
      "source": [
        "model.summary()"
      ],
      "metadata": {
        "colab": {
          "base_uri": "https://localhost:8080/"
        },
        "id": "L7L_x8zhEDFA",
        "outputId": "abbfa3e0-d4c4-487b-b229-bc06165267fe"
      },
      "execution_count": 70,
      "outputs": [
        {
          "output_type": "stream",
          "name": "stdout",
          "text": [
            "Model: \"sequential_1\"\n",
            "_________________________________________________________________\n",
            " Layer (type)                Output Shape              Param #   \n",
            "=================================================================\n",
            " embedding_1 (Embedding)     (None, 2, 100)            1600      \n",
            "                                                                 \n",
            " flatten_1 (Flatten)         (None, 200)               0         \n",
            "                                                                 \n",
            " dense_1 (Dense)             (None, 1)                 201       \n",
            "                                                                 \n",
            "=================================================================\n",
            "Total params: 1,801\n",
            "Trainable params: 201\n",
            "Non-trainable params: 1,600\n",
            "_________________________________________________________________\n"
          ]
        }
      ]
    },
    {
      "cell_type": "code",
      "source": [
        "model.fit(padded_documents,labels,epochs = 50,verbose = 1)"
      ],
      "metadata": {
        "colab": {
          "base_uri": "https://localhost:8080/"
        },
        "id": "B8UWnKcHEDCa",
        "outputId": "9bf9f8fb-8c16-43e2-e951-7cdbe3d319b2"
      },
      "execution_count": 71,
      "outputs": [
        {
          "output_type": "stream",
          "name": "stdout",
          "text": [
            "Epoch 1/50\n",
            "1/1 [==============================] - 1s 1s/step - loss: 0.8565 - accuracy: 0.5000\n",
            "Epoch 2/50\n",
            "1/1 [==============================] - 0s 15ms/step - loss: 0.8429 - accuracy: 0.5000\n",
            "Epoch 3/50\n",
            "1/1 [==============================] - 0s 13ms/step - loss: 0.8293 - accuracy: 0.5000\n",
            "Epoch 4/50\n",
            "1/1 [==============================] - 0s 14ms/step - loss: 0.8159 - accuracy: 0.5000\n",
            "Epoch 5/50\n",
            "1/1 [==============================] - 0s 13ms/step - loss: 0.8026 - accuracy: 0.5000\n",
            "Epoch 6/50\n",
            "1/1 [==============================] - 0s 13ms/step - loss: 0.7894 - accuracy: 0.5000\n",
            "Epoch 7/50\n",
            "1/1 [==============================] - 0s 13ms/step - loss: 0.7764 - accuracy: 0.5000\n",
            "Epoch 8/50\n",
            "1/1 [==============================] - 0s 13ms/step - loss: 0.7635 - accuracy: 0.5000\n",
            "Epoch 9/50\n",
            "1/1 [==============================] - 0s 15ms/step - loss: 0.7507 - accuracy: 0.5000\n",
            "Epoch 10/50\n",
            "1/1 [==============================] - 0s 13ms/step - loss: 0.7381 - accuracy: 0.5000\n",
            "Epoch 11/50\n",
            "1/1 [==============================] - 0s 13ms/step - loss: 0.7256 - accuracy: 0.5000\n",
            "Epoch 12/50\n",
            "1/1 [==============================] - 0s 14ms/step - loss: 0.7132 - accuracy: 0.5000\n",
            "Epoch 13/50\n",
            "1/1 [==============================] - 0s 15ms/step - loss: 0.7011 - accuracy: 0.5000\n",
            "Epoch 14/50\n",
            "1/1 [==============================] - 0s 14ms/step - loss: 0.6890 - accuracy: 0.5000\n",
            "Epoch 15/50\n",
            "1/1 [==============================] - 0s 35ms/step - loss: 0.6772 - accuracy: 0.5000\n",
            "Epoch 16/50\n",
            "1/1 [==============================] - 0s 19ms/step - loss: 0.6655 - accuracy: 0.5000\n",
            "Epoch 17/50\n",
            "1/1 [==============================] - 0s 18ms/step - loss: 0.6539 - accuracy: 0.5000\n",
            "Epoch 18/50\n",
            "1/1 [==============================] - 0s 17ms/step - loss: 0.6426 - accuracy: 0.5000\n",
            "Epoch 19/50\n",
            "1/1 [==============================] - 0s 32ms/step - loss: 0.6314 - accuracy: 0.5000\n",
            "Epoch 20/50\n",
            "1/1 [==============================] - 0s 18ms/step - loss: 0.6204 - accuracy: 0.5000\n",
            "Epoch 21/50\n",
            "1/1 [==============================] - 0s 20ms/step - loss: 0.6095 - accuracy: 0.5000\n",
            "Epoch 22/50\n",
            "1/1 [==============================] - 0s 16ms/step - loss: 0.5989 - accuracy: 0.5000\n",
            "Epoch 23/50\n",
            "1/1 [==============================] - 0s 16ms/step - loss: 0.5884 - accuracy: 0.5000\n",
            "Epoch 24/50\n",
            "1/1 [==============================] - 0s 15ms/step - loss: 0.5780 - accuracy: 0.5000\n",
            "Epoch 25/50\n",
            "1/1 [==============================] - 0s 16ms/step - loss: 0.5679 - accuracy: 0.6000\n",
            "Epoch 26/50\n",
            "1/1 [==============================] - 0s 13ms/step - loss: 0.5579 - accuracy: 0.6000\n",
            "Epoch 27/50\n",
            "1/1 [==============================] - 0s 10ms/step - loss: 0.5482 - accuracy: 0.6000\n",
            "Epoch 28/50\n",
            "1/1 [==============================] - 0s 11ms/step - loss: 0.5385 - accuracy: 0.6000\n",
            "Epoch 29/50\n",
            "1/1 [==============================] - 0s 36ms/step - loss: 0.5291 - accuracy: 0.7000\n",
            "Epoch 30/50\n",
            "1/1 [==============================] - 0s 18ms/step - loss: 0.5199 - accuracy: 0.7000\n",
            "Epoch 31/50\n",
            "1/1 [==============================] - 0s 14ms/step - loss: 0.5108 - accuracy: 0.7000\n",
            "Epoch 32/50\n",
            "1/1 [==============================] - 0s 13ms/step - loss: 0.5019 - accuracy: 0.7000\n",
            "Epoch 33/50\n",
            "1/1 [==============================] - 0s 19ms/step - loss: 0.4931 - accuracy: 0.7000\n",
            "Epoch 34/50\n",
            "1/1 [==============================] - 0s 11ms/step - loss: 0.4846 - accuracy: 0.7000\n",
            "Epoch 35/50\n",
            "1/1 [==============================] - 0s 15ms/step - loss: 0.4762 - accuracy: 0.7000\n",
            "Epoch 36/50\n",
            "1/1 [==============================] - 0s 21ms/step - loss: 0.4679 - accuracy: 0.7000\n",
            "Epoch 37/50\n",
            "1/1 [==============================] - 0s 12ms/step - loss: 0.4599 - accuracy: 0.8000\n",
            "Epoch 38/50\n",
            "1/1 [==============================] - 0s 12ms/step - loss: 0.4520 - accuracy: 0.8000\n",
            "Epoch 39/50\n",
            "1/1 [==============================] - 0s 13ms/step - loss: 0.4442 - accuracy: 0.8000\n",
            "Epoch 40/50\n",
            "1/1 [==============================] - 0s 19ms/step - loss: 0.4367 - accuracy: 0.8000\n",
            "Epoch 41/50\n",
            "1/1 [==============================] - 0s 11ms/step - loss: 0.4292 - accuracy: 0.8000\n",
            "Epoch 42/50\n",
            "1/1 [==============================] - 0s 12ms/step - loss: 0.4220 - accuracy: 0.8000\n",
            "Epoch 43/50\n",
            "1/1 [==============================] - 0s 13ms/step - loss: 0.4149 - accuracy: 0.8000\n",
            "Epoch 44/50\n",
            "1/1 [==============================] - 0s 15ms/step - loss: 0.4079 - accuracy: 0.8000\n",
            "Epoch 45/50\n",
            "1/1 [==============================] - 0s 12ms/step - loss: 0.4011 - accuracy: 0.8000\n",
            "Epoch 46/50\n",
            "1/1 [==============================] - 0s 17ms/step - loss: 0.3944 - accuracy: 0.8000\n",
            "Epoch 47/50\n",
            "1/1 [==============================] - 0s 16ms/step - loss: 0.3879 - accuracy: 0.9000\n",
            "Epoch 48/50\n",
            "1/1 [==============================] - 0s 19ms/step - loss: 0.3815 - accuracy: 0.9000\n",
            "Epoch 49/50\n",
            "1/1 [==============================] - 0s 19ms/step - loss: 0.3752 - accuracy: 0.9000\n",
            "Epoch 50/50\n",
            "1/1 [==============================] - 0s 15ms/step - loss: 0.3691 - accuracy: 0.9000\n"
          ]
        },
        {
          "output_type": "execute_result",
          "data": {
            "text/plain": [
              "<keras.callbacks.History at 0x7f71a10efa10>"
            ]
          },
          "metadata": {},
          "execution_count": 71
        }
      ]
    },
    {
      "cell_type": "code",
      "source": [
        "loss, accuracy = model.evaluate(padded_documents, labels, verbose = 1)"
      ],
      "metadata": {
        "colab": {
          "base_uri": "https://localhost:8080/"
        },
        "id": "e1IdgozfEC_x",
        "outputId": "34b620d1-cd76-4522-b398-16184338028c"
      },
      "execution_count": 73,
      "outputs": [
        {
          "output_type": "stream",
          "name": "stdout",
          "text": [
            "1/1 [==============================] - 0s 348ms/step - loss: 0.3631 - accuracy: 0.9000\n"
          ]
        }
      ]
    },
    {
      "cell_type": "code",
      "source": [
        "accuracy"
      ],
      "metadata": {
        "colab": {
          "base_uri": "https://localhost:8080/"
        },
        "id": "hNmAe9fzEC87",
        "outputId": "308edaff-eae1-4763-8465-81a4533d8ecb"
      },
      "execution_count": 74,
      "outputs": [
        {
          "output_type": "execute_result",
          "data": {
            "text/plain": [
              "0.8999999761581421"
            ]
          },
          "metadata": {},
          "execution_count": 74
        }
      ]
    },
    {
      "cell_type": "code",
      "source": [
        "#Try this?\n",
        "text = \"Worst!\"\n",
        "#Encode text - integers \n",
        "tokenizer.text_to_sequence()\n",
        "\n",
        "#Pad \n",
        "pad_squence(2)\n",
        "\n",
        "#Prediction \n",
        "model.predic_classes()"
      ],
      "metadata": {
        "id": "itqhPdh7BzdT"
      },
      "execution_count": null,
      "outputs": []
    },
    {
      "cell_type": "code",
      "source": [
        "Movie_reviews_sentiment"
      ],
      "metadata": {
        "id": "w7Bhu71MI6A_"
      },
      "execution_count": null,
      "outputs": []
    }
  ]
}