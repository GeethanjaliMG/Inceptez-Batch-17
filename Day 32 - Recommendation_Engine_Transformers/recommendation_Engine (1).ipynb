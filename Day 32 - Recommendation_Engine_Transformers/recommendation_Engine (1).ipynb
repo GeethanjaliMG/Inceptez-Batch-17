{
  "nbformat": 4,
  "nbformat_minor": 0,
  "metadata": {
    "colab": {
      "name": "recommendation_Engine.ipynb",
      "provenance": []
    },
    "kernelspec": {
      "name": "python3",
      "display_name": "Python 3"
    },
    "language_info": {
      "name": "python"
    }
  },
  "cells": [
    {
      "cell_type": "code",
      "metadata": {
        "colab": {
          "base_uri": "https://localhost:8080/"
        },
        "id": "pVfa1DqktYjT",
        "outputId": "dced9207-b160-4e69-a303-8f6f077ce722"
      },
      "source": [
        "!pip install textsearch\n",
        "!pip install contractions\n",
        "import nltk\n",
        "\n",
        "\n",
        "#nltk.download('all')\n",
        "nltk.download('punkt')\n",
        "nltk.download('stopwords')"
      ],
      "execution_count": 1,
      "outputs": [
        {
          "output_type": "stream",
          "name": "stdout",
          "text": [
            "Collecting textsearch\n",
            "  Downloading textsearch-0.0.21-py2.py3-none-any.whl (7.5 kB)\n",
            "Collecting anyascii\n",
            "  Downloading anyascii-0.3.1-py3-none-any.whl (287 kB)\n",
            "\u001b[K     |████████████████████████████████| 287 kB 9.1 MB/s \n",
            "\u001b[?25hCollecting pyahocorasick\n",
            "  Downloading pyahocorasick-1.4.4-cp37-cp37m-manylinux_2_17_x86_64.manylinux2014_x86_64.whl (106 kB)\n",
            "\u001b[K     |████████████████████████████████| 106 kB 42.6 MB/s \n",
            "\u001b[?25hInstalling collected packages: pyahocorasick, anyascii, textsearch\n",
            "Successfully installed anyascii-0.3.1 pyahocorasick-1.4.4 textsearch-0.0.21\n",
            "Collecting contractions\n",
            "  Downloading contractions-0.1.72-py2.py3-none-any.whl (8.3 kB)\n",
            "Requirement already satisfied: textsearch>=0.0.21 in /usr/local/lib/python3.7/dist-packages (from contractions) (0.0.21)\n",
            "Requirement already satisfied: pyahocorasick in /usr/local/lib/python3.7/dist-packages (from textsearch>=0.0.21->contractions) (1.4.4)\n",
            "Requirement already satisfied: anyascii in /usr/local/lib/python3.7/dist-packages (from textsearch>=0.0.21->contractions) (0.3.1)\n",
            "Installing collected packages: contractions\n",
            "Successfully installed contractions-0.1.72\n",
            "[nltk_data] Downloading package punkt to /root/nltk_data...\n",
            "[nltk_data]   Unzipping tokenizers/punkt.zip.\n",
            "[nltk_data] Downloading package stopwords to /root/nltk_data...\n",
            "[nltk_data]   Unzipping corpora/stopwords.zip.\n"
          ]
        },
        {
          "output_type": "execute_result",
          "data": {
            "text/plain": [
              "True"
            ]
          },
          "metadata": {},
          "execution_count": 1
        }
      ]
    },
    {
      "cell_type": "code",
      "source": [
        "import numpy as np"
      ],
      "metadata": {
        "id": "j5JKqmfH2uQZ"
      },
      "execution_count": 27,
      "outputs": []
    },
    {
      "cell_type": "code",
      "metadata": {
        "colab": {
          "base_uri": "https://localhost:8080/"
        },
        "id": "gtjaSDbgtjKn",
        "outputId": "a0fcb807-8d05-42f1-e63a-2c0eca8ed4a4"
      },
      "source": [
        "import pandas as pd\n",
        "\n",
        "df = pd.read_csv('https://github.com/dipanjanS/nlp_workshop_dhs18/raw/master/Unit%2010%20-%20Project%208%20-%20Movie%20Recommendations%20with%20Document%20Similarity/tmdb_5000_movies.csv.gz', compression='gzip')\n",
        "df.info()"
      ],
      "execution_count": 20,
      "outputs": [
        {
          "output_type": "stream",
          "name": "stdout",
          "text": [
            "<class 'pandas.core.frame.DataFrame'>\n",
            "RangeIndex: 4803 entries, 0 to 4802\n",
            "Data columns (total 20 columns):\n",
            " #   Column                Non-Null Count  Dtype  \n",
            "---  ------                --------------  -----  \n",
            " 0   budget                4803 non-null   int64  \n",
            " 1   genres                4803 non-null   object \n",
            " 2   homepage              1712 non-null   object \n",
            " 3   id                    4803 non-null   int64  \n",
            " 4   keywords              4803 non-null   object \n",
            " 5   original_language     4803 non-null   object \n",
            " 6   original_title        4803 non-null   object \n",
            " 7   overview              4800 non-null   object \n",
            " 8   popularity            4803 non-null   float64\n",
            " 9   production_companies  4803 non-null   object \n",
            " 10  production_countries  4803 non-null   object \n",
            " 11  release_date          4802 non-null   object \n",
            " 12  revenue               4803 non-null   int64  \n",
            " 13  runtime               4801 non-null   float64\n",
            " 14  spoken_languages      4803 non-null   object \n",
            " 15  status                4803 non-null   object \n",
            " 16  tagline               3959 non-null   object \n",
            " 17  title                 4803 non-null   object \n",
            " 18  vote_average          4803 non-null   float64\n",
            " 19  vote_count            4803 non-null   int64  \n",
            "dtypes: float64(3), int64(4), object(13)\n",
            "memory usage: 750.6+ KB\n"
          ]
        }
      ]
    },
    {
      "cell_type": "code",
      "source": [
        "df = df[['title','tagline','overview']]"
      ],
      "metadata": {
        "id": "I1DCoYK8yzbu"
      },
      "execution_count": 21,
      "outputs": []
    },
    {
      "cell_type": "code",
      "source": [
        "df['tagline'] = df['tagline'].fillna(' ')\n",
        "df['description'] = df['tagline'].map(str)+' '+df['overview'].map(str)"
      ],
      "metadata": {
        "id": "bIxMkLCG1v2c"
      },
      "execution_count": 22,
      "outputs": []
    },
    {
      "cell_type": "code",
      "source": [
        "df = df.dropna()"
      ],
      "metadata": {
        "id": "6NwQR_2B2MtB"
      },
      "execution_count": 23,
      "outputs": []
    },
    {
      "cell_type": "code",
      "source": [
        "df.shape"
      ],
      "metadata": {
        "colab": {
          "base_uri": "https://localhost:8080/"
        },
        "id": "SfV5bLVU2Uw6",
        "outputId": "2c3f7586-5d32-42de-ab12-77a11d6c95ca"
      },
      "execution_count": 24,
      "outputs": [
        {
          "output_type": "execute_result",
          "data": {
            "text/plain": [
              "(4800, 4)"
            ]
          },
          "metadata": {},
          "execution_count": 24
        }
      ]
    },
    {
      "cell_type": "code",
      "source": [
        "import nltk \n",
        "import re\n",
        "nltk.download('stopwords')\n",
        "nltk.download('punkt')\n",
        "stop_words = nltk.corpus.stopwords.words('english')\n",
        "\n",
        "def normalize_corpus(doc):\n",
        "  doc = re.sub(r'[^a-zA-Z0-9/s]',' ',doc, re.I | re.A)\n",
        "  doc = doc.lower()\n",
        "  doc = doc.strip()\n",
        "  tokens = nltk.word_tokenize(doc)\n",
        "  filtered_toks = [token for token in tokens if token not in stop_words]\n",
        "  doc = \" \".join(filtered_toks)\n",
        "  return doc\n"
      ],
      "metadata": {
        "colab": {
          "base_uri": "https://localhost:8080/"
        },
        "id": "ZkNyLhsl0PHn",
        "outputId": "d43590c0-6b7e-45bf-ca18-4e8ffc7a9bd0"
      },
      "execution_count": 25,
      "outputs": [
        {
          "output_type": "stream",
          "name": "stdout",
          "text": [
            "[nltk_data] Downloading package stopwords to /root/nltk_data...\n",
            "[nltk_data]   Package stopwords is already up-to-date!\n",
            "[nltk_data] Downloading package punkt to /root/nltk_data...\n",
            "[nltk_data]   Package punkt is already up-to-date!\n"
          ]
        }
      ]
    },
    {
      "cell_type": "code",
      "source": [
        "norm_corp = np.vectorize(normalize_corpus)\n",
        "corp = norm_corp(list(df['description']))"
      ],
      "metadata": {
        "id": "QJY5Ch1l0PEf"
      },
      "execution_count": 29,
      "outputs": []
    },
    {
      "cell_type": "code",
      "source": [
        "from sklearn.feature_extraction.text import TfidfVectorizer\n",
        "\n",
        "tf = TfidfVectorizer(ngram_range = (1,2),min_df =2)\n",
        "tfidf_matrix = tf.fit_transform(corp)\n",
        "tfidf_matrix.shape"
      ],
      "metadata": {
        "colab": {
          "base_uri": "https://localhost:8080/"
        },
        "id": "mCu6JrIo0PBX",
        "outputId": "ca48c05d-418d-4436-9b54-d9ba9c313ded"
      },
      "execution_count": 30,
      "outputs": [
        {
          "output_type": "execute_result",
          "data": {
            "text/plain": [
              "(4800, 20796)"
            ]
          },
          "metadata": {},
          "execution_count": 30
        }
      ]
    },
    {
      "cell_type": "code",
      "source": [
        "from sklearn.metrics.pairwise import cosine_similarity\n",
        "\n",
        "doc_sim = cosine_similarity(tfidf_matrix)\n",
        "doc_sim_df = pd.DataFrame(doc_sim)\n",
        "doc_sim_df.head()"
      ],
      "metadata": {
        "colab": {
          "base_uri": "https://localhost:8080/",
          "height": 299
        },
        "id": "TshzdLus0O-f",
        "outputId": "1f1a9083-2f39-437b-9e80-8d5f2db16372"
      },
      "execution_count": 31,
      "outputs": [
        {
          "output_type": "execute_result",
          "data": {
            "text/plain": [
              "       0         1         2         3         4         5         6     \\\n",
              "0  1.000000  0.009070  0.000000  0.015911  0.024535  0.018863  0.000000   \n",
              "1  0.009070  1.000000  0.011727  0.000000  0.040078  0.000000  0.012674   \n",
              "2  0.000000  0.011727  1.000000  0.000000  0.000000  0.000000  0.000000   \n",
              "3  0.015911  0.000000  0.000000  1.000000  0.008087  0.003294  0.013174   \n",
              "4  0.024535  0.040078  0.000000  0.008087  1.000000  0.000000  0.008659   \n",
              "\n",
              "       7         8         9     ...      4790  4791      4792      4793  \\\n",
              "0  0.024484  0.000000  0.005971  ...  0.008198   0.0  0.020806  0.029501   \n",
              "1  0.042249  0.032498  0.006880  ...  0.009447   0.0  0.004771  0.000000   \n",
              "2  0.022559  0.014447  0.004508  ...  0.040703   0.0  0.000000  0.000000   \n",
              "3  0.022198  0.023666  0.120670  ...  0.000000   0.0  0.009305  0.000000   \n",
              "4  0.028700  0.000000  0.029824  ...  0.013757   0.0  0.000000  0.000000   \n",
              "\n",
              "       4794      4795  4796      4797      4798      4799  \n",
              "0  0.000000  0.000000   0.0  0.005942  0.000000  0.000000  \n",
              "1  0.000000  0.012631   0.0  0.022335  0.012902  0.000000  \n",
              "2  0.015676  0.000000   0.0  0.011741  0.000000  0.003888  \n",
              "3  0.000000  0.000000   0.0  0.026817  0.032627  0.026083  \n",
              "4  0.000000  0.010533   0.0  0.022298  0.000000  0.000000  \n",
              "\n",
              "[5 rows x 4800 columns]"
            ],
            "text/html": [
              "\n",
              "  <div id=\"df-205f1965-7d99-4839-8062-07a1e44022ae\">\n",
              "    <div class=\"colab-df-container\">\n",
              "      <div>\n",
              "<style scoped>\n",
              "    .dataframe tbody tr th:only-of-type {\n",
              "        vertical-align: middle;\n",
              "    }\n",
              "\n",
              "    .dataframe tbody tr th {\n",
              "        vertical-align: top;\n",
              "    }\n",
              "\n",
              "    .dataframe thead th {\n",
              "        text-align: right;\n",
              "    }\n",
              "</style>\n",
              "<table border=\"1\" class=\"dataframe\">\n",
              "  <thead>\n",
              "    <tr style=\"text-align: right;\">\n",
              "      <th></th>\n",
              "      <th>0</th>\n",
              "      <th>1</th>\n",
              "      <th>2</th>\n",
              "      <th>3</th>\n",
              "      <th>4</th>\n",
              "      <th>5</th>\n",
              "      <th>6</th>\n",
              "      <th>7</th>\n",
              "      <th>8</th>\n",
              "      <th>9</th>\n",
              "      <th>...</th>\n",
              "      <th>4790</th>\n",
              "      <th>4791</th>\n",
              "      <th>4792</th>\n",
              "      <th>4793</th>\n",
              "      <th>4794</th>\n",
              "      <th>4795</th>\n",
              "      <th>4796</th>\n",
              "      <th>4797</th>\n",
              "      <th>4798</th>\n",
              "      <th>4799</th>\n",
              "    </tr>\n",
              "  </thead>\n",
              "  <tbody>\n",
              "    <tr>\n",
              "      <th>0</th>\n",
              "      <td>1.000000</td>\n",
              "      <td>0.009070</td>\n",
              "      <td>0.000000</td>\n",
              "      <td>0.015911</td>\n",
              "      <td>0.024535</td>\n",
              "      <td>0.018863</td>\n",
              "      <td>0.000000</td>\n",
              "      <td>0.024484</td>\n",
              "      <td>0.000000</td>\n",
              "      <td>0.005971</td>\n",
              "      <td>...</td>\n",
              "      <td>0.008198</td>\n",
              "      <td>0.0</td>\n",
              "      <td>0.020806</td>\n",
              "      <td>0.029501</td>\n",
              "      <td>0.000000</td>\n",
              "      <td>0.000000</td>\n",
              "      <td>0.0</td>\n",
              "      <td>0.005942</td>\n",
              "      <td>0.000000</td>\n",
              "      <td>0.000000</td>\n",
              "    </tr>\n",
              "    <tr>\n",
              "      <th>1</th>\n",
              "      <td>0.009070</td>\n",
              "      <td>1.000000</td>\n",
              "      <td>0.011727</td>\n",
              "      <td>0.000000</td>\n",
              "      <td>0.040078</td>\n",
              "      <td>0.000000</td>\n",
              "      <td>0.012674</td>\n",
              "      <td>0.042249</td>\n",
              "      <td>0.032498</td>\n",
              "      <td>0.006880</td>\n",
              "      <td>...</td>\n",
              "      <td>0.009447</td>\n",
              "      <td>0.0</td>\n",
              "      <td>0.004771</td>\n",
              "      <td>0.000000</td>\n",
              "      <td>0.000000</td>\n",
              "      <td>0.012631</td>\n",
              "      <td>0.0</td>\n",
              "      <td>0.022335</td>\n",
              "      <td>0.012902</td>\n",
              "      <td>0.000000</td>\n",
              "    </tr>\n",
              "    <tr>\n",
              "      <th>2</th>\n",
              "      <td>0.000000</td>\n",
              "      <td>0.011727</td>\n",
              "      <td>1.000000</td>\n",
              "      <td>0.000000</td>\n",
              "      <td>0.000000</td>\n",
              "      <td>0.000000</td>\n",
              "      <td>0.000000</td>\n",
              "      <td>0.022559</td>\n",
              "      <td>0.014447</td>\n",
              "      <td>0.004508</td>\n",
              "      <td>...</td>\n",
              "      <td>0.040703</td>\n",
              "      <td>0.0</td>\n",
              "      <td>0.000000</td>\n",
              "      <td>0.000000</td>\n",
              "      <td>0.015676</td>\n",
              "      <td>0.000000</td>\n",
              "      <td>0.0</td>\n",
              "      <td>0.011741</td>\n",
              "      <td>0.000000</td>\n",
              "      <td>0.003888</td>\n",
              "    </tr>\n",
              "    <tr>\n",
              "      <th>3</th>\n",
              "      <td>0.015911</td>\n",
              "      <td>0.000000</td>\n",
              "      <td>0.000000</td>\n",
              "      <td>1.000000</td>\n",
              "      <td>0.008087</td>\n",
              "      <td>0.003294</td>\n",
              "      <td>0.013174</td>\n",
              "      <td>0.022198</td>\n",
              "      <td>0.023666</td>\n",
              "      <td>0.120670</td>\n",
              "      <td>...</td>\n",
              "      <td>0.000000</td>\n",
              "      <td>0.0</td>\n",
              "      <td>0.009305</td>\n",
              "      <td>0.000000</td>\n",
              "      <td>0.000000</td>\n",
              "      <td>0.000000</td>\n",
              "      <td>0.0</td>\n",
              "      <td>0.026817</td>\n",
              "      <td>0.032627</td>\n",
              "      <td>0.026083</td>\n",
              "    </tr>\n",
              "    <tr>\n",
              "      <th>4</th>\n",
              "      <td>0.024535</td>\n",
              "      <td>0.040078</td>\n",
              "      <td>0.000000</td>\n",
              "      <td>0.008087</td>\n",
              "      <td>1.000000</td>\n",
              "      <td>0.000000</td>\n",
              "      <td>0.008659</td>\n",
              "      <td>0.028700</td>\n",
              "      <td>0.000000</td>\n",
              "      <td>0.029824</td>\n",
              "      <td>...</td>\n",
              "      <td>0.013757</td>\n",
              "      <td>0.0</td>\n",
              "      <td>0.000000</td>\n",
              "      <td>0.000000</td>\n",
              "      <td>0.000000</td>\n",
              "      <td>0.010533</td>\n",
              "      <td>0.0</td>\n",
              "      <td>0.022298</td>\n",
              "      <td>0.000000</td>\n",
              "      <td>0.000000</td>\n",
              "    </tr>\n",
              "  </tbody>\n",
              "</table>\n",
              "<p>5 rows × 4800 columns</p>\n",
              "</div>\n",
              "      <button class=\"colab-df-convert\" onclick=\"convertToInteractive('df-205f1965-7d99-4839-8062-07a1e44022ae')\"\n",
              "              title=\"Convert this dataframe to an interactive table.\"\n",
              "              style=\"display:none;\">\n",
              "        \n",
              "  <svg xmlns=\"http://www.w3.org/2000/svg\" height=\"24px\"viewBox=\"0 0 24 24\"\n",
              "       width=\"24px\">\n",
              "    <path d=\"M0 0h24v24H0V0z\" fill=\"none\"/>\n",
              "    <path d=\"M18.56 5.44l.94 2.06.94-2.06 2.06-.94-2.06-.94-.94-2.06-.94 2.06-2.06.94zm-11 1L8.5 8.5l.94-2.06 2.06-.94-2.06-.94L8.5 2.5l-.94 2.06-2.06.94zm10 10l.94 2.06.94-2.06 2.06-.94-2.06-.94-.94-2.06-.94 2.06-2.06.94z\"/><path d=\"M17.41 7.96l-1.37-1.37c-.4-.4-.92-.59-1.43-.59-.52 0-1.04.2-1.43.59L10.3 9.45l-7.72 7.72c-.78.78-.78 2.05 0 2.83L4 21.41c.39.39.9.59 1.41.59.51 0 1.02-.2 1.41-.59l7.78-7.78 2.81-2.81c.8-.78.8-2.07 0-2.86zM5.41 20L4 18.59l7.72-7.72 1.47 1.35L5.41 20z\"/>\n",
              "  </svg>\n",
              "      </button>\n",
              "      \n",
              "  <style>\n",
              "    .colab-df-container {\n",
              "      display:flex;\n",
              "      flex-wrap:wrap;\n",
              "      gap: 12px;\n",
              "    }\n",
              "\n",
              "    .colab-df-convert {\n",
              "      background-color: #E8F0FE;\n",
              "      border: none;\n",
              "      border-radius: 50%;\n",
              "      cursor: pointer;\n",
              "      display: none;\n",
              "      fill: #1967D2;\n",
              "      height: 32px;\n",
              "      padding: 0 0 0 0;\n",
              "      width: 32px;\n",
              "    }\n",
              "\n",
              "    .colab-df-convert:hover {\n",
              "      background-color: #E2EBFA;\n",
              "      box-shadow: 0px 1px 2px rgba(60, 64, 67, 0.3), 0px 1px 3px 1px rgba(60, 64, 67, 0.15);\n",
              "      fill: #174EA6;\n",
              "    }\n",
              "\n",
              "    [theme=dark] .colab-df-convert {\n",
              "      background-color: #3B4455;\n",
              "      fill: #D2E3FC;\n",
              "    }\n",
              "\n",
              "    [theme=dark] .colab-df-convert:hover {\n",
              "      background-color: #434B5C;\n",
              "      box-shadow: 0px 1px 3px 1px rgba(0, 0, 0, 0.15);\n",
              "      filter: drop-shadow(0px 1px 2px rgba(0, 0, 0, 0.3));\n",
              "      fill: #FFFFFF;\n",
              "    }\n",
              "  </style>\n",
              "\n",
              "      <script>\n",
              "        const buttonEl =\n",
              "          document.querySelector('#df-205f1965-7d99-4839-8062-07a1e44022ae button.colab-df-convert');\n",
              "        buttonEl.style.display =\n",
              "          google.colab.kernel.accessAllowed ? 'block' : 'none';\n",
              "\n",
              "        async function convertToInteractive(key) {\n",
              "          const element = document.querySelector('#df-205f1965-7d99-4839-8062-07a1e44022ae');\n",
              "          const dataTable =\n",
              "            await google.colab.kernel.invokeFunction('convertToInteractive',\n",
              "                                                     [key], {});\n",
              "          if (!dataTable) return;\n",
              "\n",
              "          const docLinkHtml = 'Like what you see? Visit the ' +\n",
              "            '<a target=\"_blank\" href=https://colab.research.google.com/notebooks/data_table.ipynb>data table notebook</a>'\n",
              "            + ' to learn more about interactive tables.';\n",
              "          element.innerHTML = '';\n",
              "          dataTable['output_type'] = 'display_data';\n",
              "          await google.colab.output.renderOutput(dataTable, element);\n",
              "          const docLink = document.createElement('div');\n",
              "          docLink.innerHTML = docLinkHtml;\n",
              "          element.appendChild(docLink);\n",
              "        }\n",
              "      </script>\n",
              "    </div>\n",
              "  </div>\n",
              "  "
            ]
          },
          "metadata": {},
          "execution_count": 31
        }
      ]
    },
    {
      "cell_type": "code",
      "source": [
        "lst_movies = df['title'].values"
      ],
      "metadata": {
        "id": "lIP9Qcyf5LMb"
      },
      "execution_count": 40,
      "outputs": []
    },
    {
      "cell_type": "code",
      "source": [
        "np.where(lst_movies == 'Interstellar')"
      ],
      "metadata": {
        "colab": {
          "base_uri": "https://localhost:8080/"
        },
        "id": "hoO7goV05giB",
        "outputId": "06d640d1-17a8-4a2a-bcf4-5df78fbf1238"
      },
      "execution_count": 42,
      "outputs": [
        {
          "output_type": "execute_result",
          "data": {
            "text/plain": [
              "(array([95]),)"
            ]
          },
          "metadata": {},
          "execution_count": 42
        }
      ]
    },
    {
      "cell_type": "code",
      "source": [
        "lst_movies = df['title'].values\n",
        "def recommendation_movies(title,lst_movies = lst_movies,doc_sim = doc_sim_df):\n",
        "  #Id of the Movie\n",
        "  movie_id = np.where(lst_movies == title)[0][0]\n",
        "  #get the similarity\n",
        "  mvie_sim = doc_sim.iloc[movie_id].values\n",
        "  #Top 5 id\n",
        "  similar_ids = np.argsort(-mvie_sim)[1:6]\n",
        "  #Get the movie_name maps \n",
        "  similar_movies = lst_movies[similar_ids]\n",
        "  return similar_movies\n"
      ],
      "metadata": {
        "id": "ipOC5J6I3hwl"
      },
      "execution_count": 43,
      "outputs": []
    },
    {
      "cell_type": "code",
      "source": [
        "recommendation_movies('Interstellar')"
      ],
      "metadata": {
        "colab": {
          "base_uri": "https://localhost:8080/"
        },
        "id": "DzJSpXF84U1N",
        "outputId": "87b97bba-aa7f-4521-f6d0-6420719852d9"
      },
      "execution_count": 44,
      "outputs": [
        {
          "output_type": "execute_result",
          "data": {
            "text/plain": [
              "array(['Gattaca', 'Space Cowboys', 'Space Pirate Captain Harlock',\n",
              "       'Final Destination 2', 'Starship Troopers'], dtype=object)"
            ]
          },
          "metadata": {},
          "execution_count": 44
        }
      ]
    },
    {
      "cell_type": "code",
      "source": [
        "recommendation_movies('Minions')"
      ],
      "metadata": {
        "colab": {
          "base_uri": "https://localhost:8080/"
        },
        "id": "gQArtJkp3hta",
        "outputId": "98f0ff8a-976d-4bdf-e57f-7fedc384653b"
      },
      "execution_count": 45,
      "outputs": [
        {
          "output_type": "execute_result",
          "data": {
            "text/plain": [
              "array(['Despicable Me 2', 'Despicable Me', 'Superman', 'Stuart Little 2',\n",
              "       'Freeway'], dtype=object)"
            ]
          },
          "metadata": {},
          "execution_count": 45
        }
      ]
    },
    {
      "cell_type": "code",
      "source": [
        "from gensim.models import FastText \n",
        "tokenized_corpus = [doc.split() for doc in corp]\n",
        "\n",
        "#Play with iterations, Window size to get better results - Try with 50 Iterations\n",
        "ft = FastText(tokenized_corpus,size = 300,min_count = 2,window = 20, workers = 1,sg = 1,iter = 5)"
      ],
      "metadata": {
        "id": "pvY9xZQI5wWP"
      },
      "execution_count": 72,
      "outputs": []
    },
    {
      "cell_type": "code",
      "source": [
        "def averaged_wordvector_vectorizer(corpus,model,num_features):\n",
        "  vocabulary = set(model.wv.index2word)\n",
        "  def average_word_vectors(words, model,vocabulary,num_features):\n",
        "    feature_vector = np.zeros((num_features,),dtype=\"float64\")\n",
        "    nwords = 0.\n",
        "\n",
        "    for word in words: \n",
        "      if word in vocabulary:\n",
        "        nwords = nwords+1\n",
        "        feature_vector = np.add(feature_vector, model.wv[word])\n",
        "      if nwords: \n",
        "        feature_vector = np.divide(feature_vector, nwords)\n",
        "    return feature_vector\n",
        "  \n",
        "  features = [average_word_vectors(tokenized_sentence,model,vocabulary,num_features) for tokenized_sentence in corpus]\n",
        "  return np.array(features)"
      ],
      "metadata": {
        "id": "WWzIdUXn5wSK"
      },
      "execution_count": 73,
      "outputs": []
    },
    {
      "cell_type": "code",
      "source": [
        "doc_vec_ft = averaged_wordvector_vectorizer(tokenized_corpus,ft,300)"
      ],
      "metadata": {
        "id": "S2fObD8Z5wPP"
      },
      "execution_count": 76,
      "outputs": []
    },
    {
      "cell_type": "code",
      "source": [
        "from sklearn.metrics.pairwise import cosine_similarity\n",
        "\n",
        "doc_sim = cosine_similarity(doc_vec_ft)\n",
        "doc_sim_df = pd.DataFrame(doc_sim)\n",
        "doc_sim_df.head()"
      ],
      "metadata": {
        "colab": {
          "base_uri": "https://localhost:8080/",
          "height": 299
        },
        "id": "cNpTwAHZ5wJz",
        "outputId": "d007bed0-3906-4e3c-c358-e1fbb1fabfdd"
      },
      "execution_count": 77,
      "outputs": [
        {
          "output_type": "execute_result",
          "data": {
            "text/plain": [
              "       0         1         2         3         4         5         6     \\\n",
              "0  1.000000  0.566251  0.927027  0.954457  0.831282  0.736115  0.798343   \n",
              "1  0.566251  1.000000  0.789839  0.494551  0.834156  0.872745  0.895895   \n",
              "2  0.927027  0.789839  1.000000  0.885238  0.917907  0.883452  0.947401   \n",
              "3  0.954457  0.494551  0.885238  1.000000  0.794961  0.617135  0.786726   \n",
              "4  0.831282  0.834156  0.917907  0.794961  1.000000  0.903101  0.904222   \n",
              "\n",
              "       7         8         9     ...      4790      4791      4792      4793  \\\n",
              "0  0.703983  0.731685  0.935190  ...  0.926380  0.480650  0.594093  0.563890   \n",
              "1  0.690901  0.851231  0.656232  ...  0.773985  0.926380  0.937992  0.956379   \n",
              "2  0.766536  0.831460  0.933090  ...  0.969575  0.706650  0.814900  0.781689   \n",
              "3  0.541760  0.656211  0.865742  ...  0.866240  0.432534  0.473595  0.523561   \n",
              "4  0.782792  0.920216  0.831646  ...  0.954940  0.759167  0.833672  0.858806   \n",
              "\n",
              "       4794      4795      4796      4797      4798      4799  \n",
              "0  0.962438  0.766132  0.664787  0.686963  0.757386  0.786240  \n",
              "1  0.541815  0.712628  0.887673  0.800993  0.865713  0.826904  \n",
              "2  0.923476  0.890913  0.819260  0.802532  0.900836  0.897050  \n",
              "3  0.936922  0.814508  0.575365  0.610692  0.655890  0.670003  \n",
              "4  0.828249  0.765225  0.894302  0.738346  0.851455  0.864031  \n",
              "\n",
              "[5 rows x 4800 columns]"
            ],
            "text/html": [
              "\n",
              "  <div id=\"df-93c22e40-79af-42b0-b646-b4d2911a071a\">\n",
              "    <div class=\"colab-df-container\">\n",
              "      <div>\n",
              "<style scoped>\n",
              "    .dataframe tbody tr th:only-of-type {\n",
              "        vertical-align: middle;\n",
              "    }\n",
              "\n",
              "    .dataframe tbody tr th {\n",
              "        vertical-align: top;\n",
              "    }\n",
              "\n",
              "    .dataframe thead th {\n",
              "        text-align: right;\n",
              "    }\n",
              "</style>\n",
              "<table border=\"1\" class=\"dataframe\">\n",
              "  <thead>\n",
              "    <tr style=\"text-align: right;\">\n",
              "      <th></th>\n",
              "      <th>0</th>\n",
              "      <th>1</th>\n",
              "      <th>2</th>\n",
              "      <th>3</th>\n",
              "      <th>4</th>\n",
              "      <th>5</th>\n",
              "      <th>6</th>\n",
              "      <th>7</th>\n",
              "      <th>8</th>\n",
              "      <th>9</th>\n",
              "      <th>...</th>\n",
              "      <th>4790</th>\n",
              "      <th>4791</th>\n",
              "      <th>4792</th>\n",
              "      <th>4793</th>\n",
              "      <th>4794</th>\n",
              "      <th>4795</th>\n",
              "      <th>4796</th>\n",
              "      <th>4797</th>\n",
              "      <th>4798</th>\n",
              "      <th>4799</th>\n",
              "    </tr>\n",
              "  </thead>\n",
              "  <tbody>\n",
              "    <tr>\n",
              "      <th>0</th>\n",
              "      <td>1.000000</td>\n",
              "      <td>0.566251</td>\n",
              "      <td>0.927027</td>\n",
              "      <td>0.954457</td>\n",
              "      <td>0.831282</td>\n",
              "      <td>0.736115</td>\n",
              "      <td>0.798343</td>\n",
              "      <td>0.703983</td>\n",
              "      <td>0.731685</td>\n",
              "      <td>0.935190</td>\n",
              "      <td>...</td>\n",
              "      <td>0.926380</td>\n",
              "      <td>0.480650</td>\n",
              "      <td>0.594093</td>\n",
              "      <td>0.563890</td>\n",
              "      <td>0.962438</td>\n",
              "      <td>0.766132</td>\n",
              "      <td>0.664787</td>\n",
              "      <td>0.686963</td>\n",
              "      <td>0.757386</td>\n",
              "      <td>0.786240</td>\n",
              "    </tr>\n",
              "    <tr>\n",
              "      <th>1</th>\n",
              "      <td>0.566251</td>\n",
              "      <td>1.000000</td>\n",
              "      <td>0.789839</td>\n",
              "      <td>0.494551</td>\n",
              "      <td>0.834156</td>\n",
              "      <td>0.872745</td>\n",
              "      <td>0.895895</td>\n",
              "      <td>0.690901</td>\n",
              "      <td>0.851231</td>\n",
              "      <td>0.656232</td>\n",
              "      <td>...</td>\n",
              "      <td>0.773985</td>\n",
              "      <td>0.926380</td>\n",
              "      <td>0.937992</td>\n",
              "      <td>0.956379</td>\n",
              "      <td>0.541815</td>\n",
              "      <td>0.712628</td>\n",
              "      <td>0.887673</td>\n",
              "      <td>0.800993</td>\n",
              "      <td>0.865713</td>\n",
              "      <td>0.826904</td>\n",
              "    </tr>\n",
              "    <tr>\n",
              "      <th>2</th>\n",
              "      <td>0.927027</td>\n",
              "      <td>0.789839</td>\n",
              "      <td>1.000000</td>\n",
              "      <td>0.885238</td>\n",
              "      <td>0.917907</td>\n",
              "      <td>0.883452</td>\n",
              "      <td>0.947401</td>\n",
              "      <td>0.766536</td>\n",
              "      <td>0.831460</td>\n",
              "      <td>0.933090</td>\n",
              "      <td>...</td>\n",
              "      <td>0.969575</td>\n",
              "      <td>0.706650</td>\n",
              "      <td>0.814900</td>\n",
              "      <td>0.781689</td>\n",
              "      <td>0.923476</td>\n",
              "      <td>0.890913</td>\n",
              "      <td>0.819260</td>\n",
              "      <td>0.802532</td>\n",
              "      <td>0.900836</td>\n",
              "      <td>0.897050</td>\n",
              "    </tr>\n",
              "    <tr>\n",
              "      <th>3</th>\n",
              "      <td>0.954457</td>\n",
              "      <td>0.494551</td>\n",
              "      <td>0.885238</td>\n",
              "      <td>1.000000</td>\n",
              "      <td>0.794961</td>\n",
              "      <td>0.617135</td>\n",
              "      <td>0.786726</td>\n",
              "      <td>0.541760</td>\n",
              "      <td>0.656211</td>\n",
              "      <td>0.865742</td>\n",
              "      <td>...</td>\n",
              "      <td>0.866240</td>\n",
              "      <td>0.432534</td>\n",
              "      <td>0.473595</td>\n",
              "      <td>0.523561</td>\n",
              "      <td>0.936922</td>\n",
              "      <td>0.814508</td>\n",
              "      <td>0.575365</td>\n",
              "      <td>0.610692</td>\n",
              "      <td>0.655890</td>\n",
              "      <td>0.670003</td>\n",
              "    </tr>\n",
              "    <tr>\n",
              "      <th>4</th>\n",
              "      <td>0.831282</td>\n",
              "      <td>0.834156</td>\n",
              "      <td>0.917907</td>\n",
              "      <td>0.794961</td>\n",
              "      <td>1.000000</td>\n",
              "      <td>0.903101</td>\n",
              "      <td>0.904222</td>\n",
              "      <td>0.782792</td>\n",
              "      <td>0.920216</td>\n",
              "      <td>0.831646</td>\n",
              "      <td>...</td>\n",
              "      <td>0.954940</td>\n",
              "      <td>0.759167</td>\n",
              "      <td>0.833672</td>\n",
              "      <td>0.858806</td>\n",
              "      <td>0.828249</td>\n",
              "      <td>0.765225</td>\n",
              "      <td>0.894302</td>\n",
              "      <td>0.738346</td>\n",
              "      <td>0.851455</td>\n",
              "      <td>0.864031</td>\n",
              "    </tr>\n",
              "  </tbody>\n",
              "</table>\n",
              "<p>5 rows × 4800 columns</p>\n",
              "</div>\n",
              "      <button class=\"colab-df-convert\" onclick=\"convertToInteractive('df-93c22e40-79af-42b0-b646-b4d2911a071a')\"\n",
              "              title=\"Convert this dataframe to an interactive table.\"\n",
              "              style=\"display:none;\">\n",
              "        \n",
              "  <svg xmlns=\"http://www.w3.org/2000/svg\" height=\"24px\"viewBox=\"0 0 24 24\"\n",
              "       width=\"24px\">\n",
              "    <path d=\"M0 0h24v24H0V0z\" fill=\"none\"/>\n",
              "    <path d=\"M18.56 5.44l.94 2.06.94-2.06 2.06-.94-2.06-.94-.94-2.06-.94 2.06-2.06.94zm-11 1L8.5 8.5l.94-2.06 2.06-.94-2.06-.94L8.5 2.5l-.94 2.06-2.06.94zm10 10l.94 2.06.94-2.06 2.06-.94-2.06-.94-.94-2.06-.94 2.06-2.06.94z\"/><path d=\"M17.41 7.96l-1.37-1.37c-.4-.4-.92-.59-1.43-.59-.52 0-1.04.2-1.43.59L10.3 9.45l-7.72 7.72c-.78.78-.78 2.05 0 2.83L4 21.41c.39.39.9.59 1.41.59.51 0 1.02-.2 1.41-.59l7.78-7.78 2.81-2.81c.8-.78.8-2.07 0-2.86zM5.41 20L4 18.59l7.72-7.72 1.47 1.35L5.41 20z\"/>\n",
              "  </svg>\n",
              "      </button>\n",
              "      \n",
              "  <style>\n",
              "    .colab-df-container {\n",
              "      display:flex;\n",
              "      flex-wrap:wrap;\n",
              "      gap: 12px;\n",
              "    }\n",
              "\n",
              "    .colab-df-convert {\n",
              "      background-color: #E8F0FE;\n",
              "      border: none;\n",
              "      border-radius: 50%;\n",
              "      cursor: pointer;\n",
              "      display: none;\n",
              "      fill: #1967D2;\n",
              "      height: 32px;\n",
              "      padding: 0 0 0 0;\n",
              "      width: 32px;\n",
              "    }\n",
              "\n",
              "    .colab-df-convert:hover {\n",
              "      background-color: #E2EBFA;\n",
              "      box-shadow: 0px 1px 2px rgba(60, 64, 67, 0.3), 0px 1px 3px 1px rgba(60, 64, 67, 0.15);\n",
              "      fill: #174EA6;\n",
              "    }\n",
              "\n",
              "    [theme=dark] .colab-df-convert {\n",
              "      background-color: #3B4455;\n",
              "      fill: #D2E3FC;\n",
              "    }\n",
              "\n",
              "    [theme=dark] .colab-df-convert:hover {\n",
              "      background-color: #434B5C;\n",
              "      box-shadow: 0px 1px 3px 1px rgba(0, 0, 0, 0.15);\n",
              "      filter: drop-shadow(0px 1px 2px rgba(0, 0, 0, 0.3));\n",
              "      fill: #FFFFFF;\n",
              "    }\n",
              "  </style>\n",
              "\n",
              "      <script>\n",
              "        const buttonEl =\n",
              "          document.querySelector('#df-93c22e40-79af-42b0-b646-b4d2911a071a button.colab-df-convert');\n",
              "        buttonEl.style.display =\n",
              "          google.colab.kernel.accessAllowed ? 'block' : 'none';\n",
              "\n",
              "        async function convertToInteractive(key) {\n",
              "          const element = document.querySelector('#df-93c22e40-79af-42b0-b646-b4d2911a071a');\n",
              "          const dataTable =\n",
              "            await google.colab.kernel.invokeFunction('convertToInteractive',\n",
              "                                                     [key], {});\n",
              "          if (!dataTable) return;\n",
              "\n",
              "          const docLinkHtml = 'Like what you see? Visit the ' +\n",
              "            '<a target=\"_blank\" href=https://colab.research.google.com/notebooks/data_table.ipynb>data table notebook</a>'\n",
              "            + ' to learn more about interactive tables.';\n",
              "          element.innerHTML = '';\n",
              "          dataTable['output_type'] = 'display_data';\n",
              "          await google.colab.output.renderOutput(dataTable, element);\n",
              "          const docLink = document.createElement('div');\n",
              "          docLink.innerHTML = docLinkHtml;\n",
              "          element.appendChild(docLink);\n",
              "        }\n",
              "      </script>\n",
              "    </div>\n",
              "  </div>\n",
              "  "
            ]
          },
          "metadata": {},
          "execution_count": 77
        }
      ]
    },
    {
      "cell_type": "code",
      "source": [
        "lst_movies = df['title'].values\n",
        "def recommendation_movies(title,lst_movies = lst_movies,doc_sim = doc_sim_df):\n",
        "  #Id of the Movie\n",
        "  movie_id = np.where(lst_movies == title)[0][0]\n",
        "  #get the similarity\n",
        "  mvie_sim = doc_sim.iloc[movie_id].values\n",
        "  #Top 5 id\n",
        "  similar_ids = np.argsort(-mvie_sim)[1:6]\n",
        "  #Get the movie_name maps \n",
        "  similar_movies = lst_movies[similar_ids]\n",
        "  return similar_movies\n"
      ],
      "metadata": {
        "id": "aKuLRRzu3hqy"
      },
      "execution_count": 78,
      "outputs": []
    },
    {
      "cell_type": "code",
      "source": [
        "recommendation_movies('Interstellar')"
      ],
      "metadata": {
        "colab": {
          "base_uri": "https://localhost:8080/"
        },
        "id": "n313LEfh3hoI",
        "outputId": "dcbb8433-a43d-4ece-c00f-e1c4a054e881"
      },
      "execution_count": 79,
      "outputs": [
        {
          "output_type": "execute_result",
          "data": {
            "text/plain": [
              "array(['White Squall', 'History of the World: Part I', 'Butterfly Girl',\n",
              "       'The Wind That Shakes the Barley',\n",
              "       'Underworld: Rise of the Lycans'], dtype=object)"
            ]
          },
          "metadata": {},
          "execution_count": 79
        }
      ]
    },
    {
      "cell_type": "code",
      "source": [
        ""
      ],
      "metadata": {
        "id": "ffMYfIz73hlh"
      },
      "execution_count": null,
      "outputs": []
    },
    {
      "cell_type": "code",
      "source": [
        ""
      ],
      "metadata": {
        "id": "Y65L1ZYJ3hgC"
      },
      "execution_count": null,
      "outputs": []
    },
    {
      "cell_type": "code",
      "source": [
        ""
      ],
      "metadata": {
        "id": "ol4Paeac0O77"
      },
      "execution_count": null,
      "outputs": []
    },
    {
      "cell_type": "code",
      "source": [
        ""
      ],
      "metadata": {
        "id": "301TiYVl4D_E"
      },
      "execution_count": null,
      "outputs": []
    },
    {
      "cell_type": "code",
      "source": [
        ""
      ],
      "metadata": {
        "id": "iTRIV6hB4D8N"
      },
      "execution_count": null,
      "outputs": []
    },
    {
      "cell_type": "code",
      "source": [
        ""
      ],
      "metadata": {
        "id": "-05bYRHD4D5F"
      },
      "execution_count": null,
      "outputs": []
    },
    {
      "cell_type": "code",
      "source": [
        ""
      ],
      "metadata": {
        "id": "eKkhhKgJ4D2d"
      },
      "execution_count": null,
      "outputs": []
    }
  ]
}